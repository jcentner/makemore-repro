{
 "cells": [
  {
   "cell_type": "markdown",
   "id": "e156ca27",
   "metadata": {},
   "source": [
    "## makemore - MLP"
   ]
  },
  {
   "cell_type": "markdown",
   "id": "2c0c549f",
   "metadata": {},
   "source": [
    "### Implementing [Bengio, et al. 2003: A Neural Probabilistic Language Model](https://www.jmlr.org/papers/volume3/bengio03a/bengio03a.pdf)\n",
    "\n",
    "This implementation introduces:\n",
    "- more sophisticated embeddings\n",
    "- hyperparameters\n",
    "- learning rate tuning\n",
    "- train/test/dev set split\n",
    "- under- and over-fitting"
   ]
  },
  {
   "cell_type": "code",
   "execution_count": 3,
   "id": "b9f5330d",
   "metadata": {},
   "outputs": [
    {
     "name": "stdout",
     "output_type": "stream",
     "text": [
      "Sample names:  ['charlotte', 'mia', 'amelia', 'harper', 'evelyn', 'abigail', 'emily']\n",
      "Character mapping:  {1: 'a', 2: 'b', 3: 'c', 4: 'd', 5: 'e', 6: 'f', 7: 'g', 8: 'h', 9: 'i', 10: 'j', 11: 'k', 12: 'l', 13: 'm', 14: 'n', 15: 'o', 16: 'p', 17: 'q', 18: 'r', 19: 's', 20: 't', 21: 'u', 22: 'v', 23: 'w', 24: 'x', 25: 'y', 26: 'z', 0: '.'}\n"
     ]
    }
   ],
   "source": [
    "import torch\n",
    "import torch.nn.functional as F\n",
    "import matplotlib.pyplot as plt\n",
    "%matplotlib inline\n",
    "\n",
    "names = open('data/names.txt', 'r').read().splitlines()\n",
    "print(\"Sample names: \", names[5:12])\n",
    "\n",
    "\n",
    "# create char to index mapping for set (vocabulary) of chars in names\n",
    "chars = sorted(list(set(''.join(names))))\n",
    "stoi = {s:i+1 for i,s in enumerate(chars)}\n",
    "stoi['.'] = 0\n",
    "itos = {i:s for s,i in stoi.items()}\n",
    "print(\"Character mapping: \", itos)"
   ]
  },
  {
   "cell_type": "markdown",
   "id": "7d594683",
   "metadata": {},
   "source": [
    "### Step by step exploration"
   ]
  },
  {
   "cell_type": "code",
   "execution_count": 27,
   "id": "cd822625",
   "metadata": {},
   "outputs": [
    {
     "name": "stdout",
     "output_type": "stream",
     "text": [
      "Name:  harper\n",
      "... -----> h\n",
      "..h -----> a\n",
      ".ha -----> r\n",
      "har -----> p\n",
      "arp -----> e\n",
      "rpe -----> r\n",
      "per -----> .\n",
      "Name:  evelyn\n",
      "... -----> e\n",
      "..e -----> v\n",
      ".ev -----> e\n",
      "eve -----> l\n",
      "vel -----> y\n",
      "ely -----> n\n",
      "lyn -----> .\n",
      "Name:  abigail\n",
      "... -----> a\n",
      "..a -----> b\n",
      ".ab -----> i\n",
      "abi -----> g\n",
      "big -----> a\n",
      "iga -----> i\n",
      "gai -----> l\n",
      "ail -----> .\n",
      "Name:  emily\n",
      "... -----> e\n",
      "..e -----> m\n",
      ".em -----> i\n",
      "emi -----> l\n",
      "mil -----> y\n",
      "ily -----> .\n",
      "Name:  elizabeth\n",
      "... -----> e\n",
      "..e -----> l\n",
      ".el -----> i\n",
      "eli -----> z\n",
      "liz -----> a\n",
      "iza -----> b\n",
      "zab -----> e\n",
      "abe -----> t\n",
      "bet -----> h\n",
      "eth -----> .\n",
      "X shape:  torch.Size([38, 3])    X.dtype:  torch.int64\n",
      "Y shape:  torch.Size([38])       Y.dtype:  torch.int64\n"
     ]
    }
   ],
   "source": [
    "# creating dataset: context and target pairs\n",
    "# before, we used one-hot encoding; this will now be used for an embedding lookup table\n",
    "# and eventually transform into modern vector embeddings \n",
    "\n",
    "context_length = 3 # how many chars to consider to predict the next char\n",
    "X, Y = [], []\n",
    "for name in names[8:13]:\n",
    "\n",
    "    print(\"Name: \", name)\n",
    "    context = [0] * context_length # initial context is all dots; this pads shorter words to match the context length\n",
    "    for char in name + '.':\n",
    "        ix = stoi[char]\n",
    "        X.append(context)\n",
    "        Y.append(ix)\n",
    "        print(''.join(itos[i] for i in context), '----->', itos[ix])\n",
    "        context = context[1:] + [ix] # construct tokens \n",
    "\n",
    "X = torch.tensor(X)\n",
    "Y = torch.tensor(Y)\n",
    "\n",
    "print(\"X shape: \", X.shape, \"   X.dtype: \", X.dtype) # X has shape (vocab_size, context_length)\n",
    "print(\"Y shape: \", Y.shape, \"      Y.dtype: \", Y.dtype)"
   ]
  },
  {
   "cell_type": "code",
   "execution_count": 32,
   "id": "9483114e",
   "metadata": {},
   "outputs": [
    {
     "name": "stdout",
     "output_type": "stream",
     "text": [
      "torch.Size([38, 3, 2])\n"
     ]
    },
    {
     "data": {
      "text/plain": [
       "tensor([0.7360, 0.6085])"
      ]
     },
     "execution_count": 32,
     "metadata": {},
     "output_type": "execute_result"
    }
   ],
   "source": [
    "# creating embedding lookup table\n",
    "C = torch.randn(27, 2) # embedding lookup table: 27 possible characters, each represented by a 2-dim vector\n",
    "\n",
    "# C[X] \"C at X\" # (vocab_size, context_length) -> (vocab_size, context_length, embedding_dim)\n",
    "emb = C[X] # embedding lookup: for every of the 38 tokens' 3 chars in X, we get a 2-dim vector from C\n",
    "print(emb.shape)\n",
    "\n",
    "emb[13,2] # for example, the embedding of the 3rd char in the 14th token in the dataset"
   ]
  },
  {
   "cell_type": "code",
   "execution_count": 36,
   "id": "868dad17",
   "metadata": {},
   "outputs": [],
   "source": [
    "# constructing hidden layer \n",
    "# weights\n",
    "W1 = torch.randn((6, 100)) # 6 (3 character embeddings*2 dimensions each), 100 neurons (variable we choose)\n",
    "# biases\n",
    "b1 = torch.randn(100) # 100 biases, one per neuron"
   ]
  },
  {
   "cell_type": "code",
   "execution_count": 41,
   "id": "4bb429af",
   "metadata": {},
   "outputs": [
    {
     "name": "stdout",
     "output_type": "stream",
     "text": [
      "torch.Size([38, 6])\n",
      "torch.Size([38, 6])\n"
     ]
    },
    {
     "data": {
      "text/plain": [
       "torch.Size([38, 100])"
      ]
     },
     "execution_count": 41,
     "metadata": {},
     "output_type": "execute_result"
    }
   ],
   "source": [
    "# need 38 x 6 matrix to multiply with W1 - concatenate the 3 embeddings of 2 dimensions each\n",
    "print(torch.cat([emb[:, 0, :] , emb[:, 1, :], emb[:, 2, :]], dim=1).shape) # each are (38, 2), treat as a sequence\n",
    "\n",
    "# generalize the above concatenation for other context lengths with unbind\n",
    "# however, cat is inefficient as it creates a new tensor in memory\n",
    "print(torch.cat(torch.unbind(emb, 1), 1).shape) # unbind splits the tensor into a tuple of 3 tensors, each of shape (38, 2)\n",
    "\n",
    "# to prevent any memory operation, optimize with view\n",
    "emb.view(38,6)\n",
    "\n",
    "# construct the hidden layer\n",
    "# in the below, emb.shape[0] can be replaced with -1 to infer the size\n",
    "# apply tanh to normalize\n",
    "# note the addition: broadcasting adds b1 to each row of the matrix, as we want\n",
    "h = torch.tanh(emb.view(emb.shape[0], 6) @ W1 + b1) # (38, 6) @ (6, 100) -> (38, 100) + (100,) -> (38, 100)\n",
    "h.shape"
   ]
  },
  {
   "cell_type": "code",
   "execution_count": null,
   "id": "eb7987bb",
   "metadata": {},
   "outputs": [
    {
     "data": {
      "text/plain": [
       "torch.Size([38, 27])"
      ]
     },
     "execution_count": 44,
     "metadata": {},
     "output_type": "execute_result"
    }
   ],
   "source": [
    "# create output layer\n",
    "\n",
    "# initializing weights and biases for output layer\n",
    "W2 = torch.randn((100, 27)) # 100 neurons, 27 possible output chars\n",
    "b2 = torch.randn(27) # 27 biases, one per output char\n",
    "\n",
    "# outputs - logits\n",
    "logits = h @ W2 + b2 # (38, 27)\n",
    "logits.shape"
   ]
  },
  {
   "cell_type": "code",
   "execution_count": null,
   "id": "61370570",
   "metadata": {},
   "outputs": [
    {
     "name": "stdout",
     "output_type": "stream",
     "text": [
      "torch.Size([38, 27])\n"
     ]
    },
    {
     "data": {
      "text/plain": [
       "tensor(1.0000)"
      ]
     },
     "execution_count": 48,
     "metadata": {},
     "output_type": "execute_result"
    }
   ],
   "source": [
    "counts = logits.exp() # \"fake counts\"\n",
    "prob = counts / counts.sum(1, keepdim=True) # normalize into probabilities\n",
    "print(prob.shape)\n",
    "prob[0].sum() # should be 1.0"
   ]
  },
  {
   "cell_type": "code",
   "execution_count": 51,
   "id": "072820ca",
   "metadata": {},
   "outputs": [
    {
     "name": "stdout",
     "output_type": "stream",
     "text": [
      "tensor([4.4962e-11, 1.1478e-10, 7.1212e-08, 1.5932e-06, 7.3249e-07, 2.1359e-05,\n",
      "        6.9399e-16, 7.5984e-01, 3.0265e-06, 4.4399e-02, 8.3797e-05, 3.1178e-05,\n",
      "        1.0000e+00, 1.5385e-04, 1.7408e-09, 4.6086e-11, 4.7205e-11, 1.9919e-02,\n",
      "        1.1926e-10, 1.7136e-11, 5.0008e-13, 1.1081e-08, 7.5984e-01, 5.8214e-04,\n",
      "        7.5972e-16, 8.0738e-07, 4.3683e-08, 2.1018e-17, 7.5984e-01, 3.2249e-07,\n",
      "        4.6499e-11, 3.0142e-09, 4.3560e-08, 2.8964e-06, 9.1366e-10, 1.2794e-06,\n",
      "        6.0253e-13, 8.0574e-14])\n"
     ]
    },
    {
     "data": {
      "text/plain": [
       "tensor(16.8370)"
      ]
     },
     "execution_count": 51,
     "metadata": {},
     "output_type": "execute_result"
    }
   ],
   "source": [
    "print(prob[torch.arange(38), Y]) # probability of the correct next char for each of the 38 tokens\n",
    "loss = -prob[torch.arange(38), Y].log().mean() # negative log likelihood loss\n",
    "loss"
   ]
  },
  {
   "cell_type": "markdown",
   "id": "f8186cc0",
   "metadata": {},
   "source": [
    "### Training loop"
   ]
  },
  {
   "cell_type": "code",
   "execution_count": null,
   "id": "ee49b6c7",
   "metadata": {},
   "outputs": [
    {
     "name": "stdout",
     "output_type": "stream",
     "text": [
      "X shape:  torch.Size([228148, 3])    X.dtype:  torch.int64\n",
      "Y shape:  torch.Size([228148])       Y.dtype:  torch.int64\n"
     ]
    }
   ],
   "source": [
    "# creating dataset: context and target pairs\n",
    "\n",
    "context_length = 3 # how many chars to consider to predict the next char\n",
    "X, Y = [], []\n",
    "for name in names:\n",
    "\n",
    "    #print(\"Name: \", name)\n",
    "    context = [0] * context_length # initial context is all dots; this pads shorter words to match the context length\n",
    "    for char in name + '.':\n",
    "        ix = stoi[char]\n",
    "        X.append(context)\n",
    "        Y.append(ix)\n",
    "        #print(''.join(itos[i] for i in context), '----->', itos[ix])\n",
    "        context = context[1:] + [ix] # construct tokens \n",
    "\n",
    "X = torch.tensor(X)\n",
    "Y = torch.tensor(Y)\n",
    "\n",
    "# dataset\n",
    "print(\"X shape: \", X.shape, \"   X.dtype: \", X.dtype) # X has shape (vocab_size, context_length)\n",
    "print(\"Y shape: \", Y.shape, \"      Y.dtype: \", Y.dtype)"
   ]
  },
  {
   "cell_type": "code",
   "execution_count": 97,
   "id": "c5405125",
   "metadata": {},
   "outputs": [
    {
     "name": "stdout",
     "output_type": "stream",
     "text": [
      "3481\n"
     ]
    }
   ],
   "source": [
    "g = torch.Generator().manual_seed(978467474)\n",
    "C = torch.randn(27, 2, generator=g) # embedding lookup table: 27 possible characters, each represented by a 2-dim vector\n",
    "W1 = torch.randn((6, 100), generator=g) # 6 (3 character embeddings*2 dimensions each), 100 neurons (variable we choose)\n",
    "b1 = torch.randn(100, generator=g) # 100 biases, one per neuron\n",
    "W2 = torch.randn((100, 27), generator=g) # 100 neurons, 27 possible output chars\n",
    "b2 = torch.randn(27, generator=g) # 27 biases, one per output char\n",
    "\n",
    "parameters = [C, W1, b1, W2, b2] # all parameters of the model\n",
    "print(sum(p.nelement() for p in parameters)) # number of parameters in the model\n",
    "for p in parameters:\n",
    "    p.requires_grad = True"
   ]
  },
  {
   "cell_type": "code",
   "execution_count": 98,
   "id": "75ec8f2d",
   "metadata": {},
   "outputs": [],
   "source": [
    "# learning rate search space\n",
    "lre = torch.linspace(-3, 0, 1000) # log scale from 0.001 to 1.0\n",
    "lrs = 10**lre"
   ]
  },
  {
   "cell_type": "code",
   "execution_count": 99,
   "id": "2e0db70f",
   "metadata": {},
   "outputs": [],
   "source": [
    "lri = []\n",
    "lossi = []\n",
    "\n",
    "def train(iterations, lr):\n",
    "    for i in range(iterations): # training loop\n",
    "\n",
    "        # batch\n",
    "        ix = torch.randint(0, X.shape[0], (32,), generator=g) # random batch of 32 elements from the dataset\n",
    "\n",
    "        # forward pass \n",
    "        emb = C[X[ix]] # embedding lookup: for every of the 38 tokens' 3 chars in X, we get a 2-dim vector from C\n",
    "        h = torch.tanh(emb.view(emb.shape[0], 6) @ W1 + b1) # hidden layer\n",
    "        logits = h @ W2 + b2 \n",
    "\n",
    "        # same as the manual calculation from before, and more efficient (torch uses fused kernels, backward pass is simpler, well-behaved exp)\n",
    "        loss = F.cross_entropy(logits, Y[ix])\n",
    "\n",
    "        # backward pass\n",
    "        for p in parameters:\n",
    "            p.grad = None\n",
    "        loss.backward()\n",
    "\n",
    "        # update\n",
    "        #lr = lrs[i] # learning rate search\n",
    "        for p in parameters:\n",
    "            p.data += -lr * p.grad # gradient descent step\n",
    "\n",
    "        # track learning rate search stats\n",
    "        #lri.append(lre[i])\n",
    "        #lossi.append(loss.item())\n",
    "\n",
    "    # print(loss.item()) # loss per batch \n",
    "\n",
    "    emb = C[X] # embedding lookup: for every of the 38 tokens' 3 chars in X, we get a 2-dim vector from C\n",
    "    h = torch.tanh(emb.view(emb.shape[0], 6) @ W1 + b1) # hidden layer\n",
    "    logits = h @ W2 + b2 \n",
    "    loss = F.cross_entropy(logits, Y)\n",
    "    print(loss.item()) # loss over entire training set "
   ]
  },
  {
   "cell_type": "code",
   "execution_count": null,
   "id": "079745c5",
   "metadata": {},
   "outputs": [
    {
     "data": {
      "text/plain": [
       "[<matplotlib.lines.Line2D at 0x70ddf2752990>]"
      ]
     },
     "execution_count": 84,
     "metadata": {},
     "output_type": "execute_result"
    },
    {
     "data": {
      "image/png": "[encoded data removed]",
      "text/plain": [
       "<Figure size 640x480 with 1 Axes>"
      ]
     },
     "metadata": {},
     "output_type": "display_data"
    }
   ],
   "source": [
    "plt.plot(lri, lossi)\n",
    "# typical plot of learning rate vs loss; too high is unstable, too low is slow"
   ]
  },
  {
   "cell_type": "code",
   "execution_count": null,
   "id": "1e52d0b7",
   "metadata": {},
   "outputs": [
    {
     "name": "stdout",
     "output_type": "stream",
     "text": [
      "2.4819912910461426\n"
     ]
    }
   ],
   "source": [
    "# from search chart, 10**-1 is a good learning rate\n",
    "train(10000, 0.1)"
   ]
  },
  {
   "cell_type": "code",
   "execution_count": null,
   "id": "4527d439",
   "metadata": {},
   "outputs": [
    {
     "name": "stdout",
     "output_type": "stream",
     "text": [
      "2.376845121383667\n"
     ]
    }
   ],
   "source": [
    "# a few more\n",
    "train(10000, 0.1)"
   ]
  },
  {
   "cell_type": "code",
   "execution_count": 104,
   "id": "ce590554",
   "metadata": {},
   "outputs": [
    {
     "name": "stdout",
     "output_type": "stream",
     "text": [
      "2.307384729385376\n"
     ]
    }
   ],
   "source": [
    "# a learning rate decay once the above plateaus: crank up the iterations\n",
    "train(100000, 0.01)"
   ]
  },
  {
   "cell_type": "markdown",
   "id": "ab368b50",
   "metadata": {},
   "source": [
    "### Cleaned up"
   ]
  },
  {
   "cell_type": "code",
   "execution_count": null,
   "id": "f16e2981",
   "metadata": {},
   "outputs": [],
   "source": [
    "# creating dataset: context and target pairs\n",
    "\n",
    "context_length = 3 \n",
    "X, Y = [], []\n",
    "for name in names:\n",
    "\n",
    "    context = [0] * context_length \n",
    "    for char in name + '.':\n",
    "        ix = stoi[char]\n",
    "        X.append(context)\n",
    "        Y.append(ix)\n",
    "        context = context[1:] + [ix]\n",
    "\n",
    "X = torch.tensor(X)\n",
    "Y = torch.tensor(Y)"
   ]
  },
  {
   "cell_type": "code",
   "execution_count": null,
   "id": "dfc10c13",
   "metadata": {},
   "outputs": [],
   "source": []
  },
  {
   "cell_type": "code",
   "execution_count": null,
   "id": "b3d40289",
   "metadata": {},
   "outputs": [],
   "source": []
  },
  {
   "cell_type": "markdown",
   "id": "9c38ba9b",
   "metadata": {},
   "source": [
    "#### Exercises:\n",
    "- [ ] E01: Tune the hyperparameters of the training to beat a validation loss of 2.2\n",
    "- [ ] E02: (1) What is the loss you'd get if the predicted probabilities at initialization were perfectly uniform? What loss do we achieve? (2) Can you tune the initialization to get a starting loss that is much more similar to (1)?\n",
    "- [ ] E03: Read the Bengio et al 2003 paper (link above), implement and try any idea from the paper. Did it work?"
   ]
  },
  {
   "cell_type": "markdown",
   "id": "70cea616",
   "metadata": {},
   "source": [
    "### Exercise: "
   ]
  }
 ],
 "metadata": {
  "kernelspec": {
   "display_name": ".venv",
   "language": "python",
   "name": "python3"
  },
  "language_info": {
   "codemirror_mode": {
    "name": "ipython",
    "version": 3
   },
   "file_extension": ".py",
   "mimetype": "text/x-python",
   "name": "python",
   "nbconvert_exporter": "python",
   "pygments_lexer": "ipython3",
   "version": "3.12.3"
  }
 },
 "nbformat": 4,
 "nbformat_minor": 5
}
