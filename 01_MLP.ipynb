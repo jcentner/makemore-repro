{
 "cells": [
  {
   "cell_type": "markdown",
   "id": "e156ca27",
   "metadata": {},
   "source": [
    "## makemore - MLP"
   ]
  },
  {
   "cell_type": "markdown",
   "id": "2c0c549f",
   "metadata": {},
   "source": [
    "### Implementing [Bengio, et al. 2003: A Neural Probabilistic Language Model](https://www.jmlr.org/papers/volume3/bengio03a/bengio03a.pdf)\n",
    "\n",
    "This implementation introduces:\n",
    "- more sophisticated embeddings\n",
    "- hyperparameters\n",
    "- learning rate tuning\n",
    "- train/test/dev set split\n",
    "- under- and over-fitting"
   ]
  },
  {
   "cell_type": "code",
   "execution_count": null,
   "id": "b9f5330d",
   "metadata": {
    "vscode": {
     "languageId": "plaintext"
    }
   },
   "outputs": [],
   "source": []
  },
  {
   "cell_type": "markdown",
   "id": "9c38ba9b",
   "metadata": {},
   "source": [
    "#### Exercises:\n",
    "- [ ] E01: Tune the hyperparameters of the training to beat a validation loss of 2.2\n",
    "- [ ] E02: (1) What is the loss you'd get if the predicted probabilities at initialization were perfectly uniform? What loss do we achieve? (2) Can you tune the initialization to get a starting loss that is much more similar to (1)?\n",
    "- [ ] E03: Read the Bengio et al 2003 paper (link above), implement and try any idea from the paper. Did it work?"
   ]
  },
  {
   "cell_type": "markdown",
   "id": "70cea616",
   "metadata": {},
   "source": [
    "### Exercise: "
   ]
  }
 ],
 "metadata": {
  "language_info": {
   "name": "python"
  }
 },
 "nbformat": 4,
 "nbformat_minor": 5
}
