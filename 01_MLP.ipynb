{
 "cells": [
  {
   "cell_type": "markdown",
   "id": "e156ca27",
   "metadata": {},
   "source": [
    "## makemore - MLP"
   ]
  },
  {
   "cell_type": "markdown",
   "id": "2c0c549f",
   "metadata": {},
   "source": [
    "### Implementing [Bengio, et al. 2003: A Neural Probabilistic Language Model](https://www.jmlr.org/papers/volume3/bengio03a/bengio03a.pdf)\n",
    "\n",
    "This implementation introduces:\n",
    "- more sophisticated embeddings\n",
    "- hyperparameters\n",
    "- learning rate tuning\n",
    "- train/test/dev set split\n",
    "- under- and over-fitting"
   ]
  },
  {
   "cell_type": "code",
   "execution_count": 3,
   "id": "b9f5330d",
   "metadata": {},
   "outputs": [
    {
     "name": "stdout",
     "output_type": "stream",
     "text": [
      "Sample names:  ['charlotte', 'mia', 'amelia', 'harper', 'evelyn', 'abigail', 'emily']\n",
      "Character mapping:  {1: 'a', 2: 'b', 3: 'c', 4: 'd', 5: 'e', 6: 'f', 7: 'g', 8: 'h', 9: 'i', 10: 'j', 11: 'k', 12: 'l', 13: 'm', 14: 'n', 15: 'o', 16: 'p', 17: 'q', 18: 'r', 19: 's', 20: 't', 21: 'u', 22: 'v', 23: 'w', 24: 'x', 25: 'y', 26: 'z', 0: '.'}\n"
     ]
    }
   ],
   "source": [
    "import torch\n",
    "import torch.nn.functional as F\n",
    "import matplotlib.pyplot as plt\n",
    "%matplotlib inline\n",
    "\n",
    "names = open('data/names.txt', 'r').read().splitlines()\n",
    "print(\"Sample names: \", names[5:12])\n",
    "\n",
    "\n",
    "# create char to index mapping for set (vocabulary) of chars in names\n",
    "chars = sorted(list(set(''.join(names))))\n",
    "stoi = {s:i+1 for i,s in enumerate(chars)}\n",
    "stoi['.'] = 0\n",
    "itos = {i:s for s,i in stoi.items()}\n",
    "print(\"Character mapping: \", itos)"
   ]
  },
  {
   "cell_type": "markdown",
   "id": "7d594683",
   "metadata": {},
   "source": [
    "### Step by step exploration"
   ]
  },
  {
   "cell_type": "code",
   "execution_count": 27,
   "id": "cd822625",
   "metadata": {},
   "outputs": [
    {
     "name": "stdout",
     "output_type": "stream",
     "text": [
      "Name:  harper\n",
      "... -----> h\n",
      "..h -----> a\n",
      ".ha -----> r\n",
      "har -----> p\n",
      "arp -----> e\n",
      "rpe -----> r\n",
      "per -----> .\n",
      "Name:  evelyn\n",
      "... -----> e\n",
      "..e -----> v\n",
      ".ev -----> e\n",
      "eve -----> l\n",
      "vel -----> y\n",
      "ely -----> n\n",
      "lyn -----> .\n",
      "Name:  abigail\n",
      "... -----> a\n",
      "..a -----> b\n",
      ".ab -----> i\n",
      "abi -----> g\n",
      "big -----> a\n",
      "iga -----> i\n",
      "gai -----> l\n",
      "ail -----> .\n",
      "Name:  emily\n",
      "... -----> e\n",
      "..e -----> m\n",
      ".em -----> i\n",
      "emi -----> l\n",
      "mil -----> y\n",
      "ily -----> .\n",
      "Name:  elizabeth\n",
      "... -----> e\n",
      "..e -----> l\n",
      ".el -----> i\n",
      "eli -----> z\n",
      "liz -----> a\n",
      "iza -----> b\n",
      "zab -----> e\n",
      "abe -----> t\n",
      "bet -----> h\n",
      "eth -----> .\n",
      "X shape:  torch.Size([38, 3])    X.dtype:  torch.int64\n",
      "Y shape:  torch.Size([38])       Y.dtype:  torch.int64\n"
     ]
    }
   ],
   "source": [
    "# creating dataset: context and target pairs\n",
    "# before, we used one-hot encoding; this will now be used for an embedding lookup table\n",
    "# and eventually transform into modern vector embeddings \n",
    "\n",
    "context_length = 3 # how many chars to consider to predict the next char\n",
    "X, Y = [], []\n",
    "for name in names[8:13]:\n",
    "\n",
    "    print(\"Name: \", name)\n",
    "    context = [0] * context_length # initial context is all dots; this pads shorter words to match the context length\n",
    "    for char in name + '.':\n",
    "        ix = stoi[char]\n",
    "        X.append(context)\n",
    "        Y.append(ix)\n",
    "        print(''.join(itos[i] for i in context), '----->', itos[ix])\n",
    "        context = context[1:] + [ix] # construct tokens \n",
    "\n",
    "X = torch.tensor(X)\n",
    "Y = torch.tensor(Y)\n",
    "\n",
    "print(\"X shape: \", X.shape, \"   X.dtype: \", X.dtype) # X has shape (vocab_size, context_length)\n",
    "print(\"Y shape: \", Y.shape, \"      Y.dtype: \", Y.dtype)"
   ]
  },
  {
   "cell_type": "code",
   "execution_count": 32,
   "id": "9483114e",
   "metadata": {},
   "outputs": [
    {
     "name": "stdout",
     "output_type": "stream",
     "text": [
      "torch.Size([38, 3, 2])\n"
     ]
    },
    {
     "data": {
      "text/plain": [
       "tensor([0.7360, 0.6085])"
      ]
     },
     "execution_count": 32,
     "metadata": {},
     "output_type": "execute_result"
    }
   ],
   "source": [
    "# creating embedding lookup table\n",
    "C = torch.randn(27, 2) # embedding lookup table: 27 possible characters, each represented by a 2-dim vector\n",
    "\n",
    "# C[X] \"C at X\" # (vocab_size, context_length) -> (vocab_size, context_length, embedding_dim)\n",
    "emb = C[X] # embedding lookup: for every of the 38 tokens' 3 chars in X, we get a 2-dim vector from C\n",
    "print(emb.shape)\n",
    "\n",
    "emb[13,2] # for example, the embedding of the 3rd char in the 14th token in the dataset"
   ]
  },
  {
   "cell_type": "code",
   "execution_count": 36,
   "id": "868dad17",
   "metadata": {},
   "outputs": [],
   "source": [
    "# constructing hidden layer \n",
    "# weights\n",
    "W1 = torch.randn((6, 100)) # 6 (3 character embeddings*2 dimensions each), 100 neurons (variable we choose)\n",
    "# biases\n",
    "b1 = torch.randn(100) # 100 biases, one per neuron"
   ]
  },
  {
   "cell_type": "code",
   "execution_count": 41,
   "id": "4bb429af",
   "metadata": {},
   "outputs": [
    {
     "name": "stdout",
     "output_type": "stream",
     "text": [
      "torch.Size([38, 6])\n",
      "torch.Size([38, 6])\n"
     ]
    },
    {
     "data": {
      "text/plain": [
       "torch.Size([38, 100])"
      ]
     },
     "execution_count": 41,
     "metadata": {},
     "output_type": "execute_result"
    }
   ],
   "source": [
    "# need 38 x 6 matrix to multiply with W1 - concatenate the 3 embeddings of 2 dimensions each\n",
    "print(torch.cat([emb[:, 0, :] , emb[:, 1, :], emb[:, 2, :]], dim=1).shape) # each are (38, 2), treat as a sequence\n",
    "\n",
    "# generalize the above concatenation for other context lengths with unbind\n",
    "# however, cat is inefficient as it creates a new tensor in memory\n",
    "print(torch.cat(torch.unbind(emb, 1), 1).shape) # unbind splits the tensor into a tuple of 3 tensors, each of shape (38, 2)\n",
    "\n",
    "# to prevent any memory operation, optimize with view\n",
    "emb.view(38,6)\n",
    "\n",
    "# construct the hidden layer\n",
    "# in the below, emb.shape[0] can be replaced with -1 to infer the size\n",
    "# apply tanh to normalize\n",
    "# note the addition: broadcasting adds b1 to each row of the matrix, as we want\n",
    "h = torch.tanh(emb.view(emb.shape[0], 6) @ W1 + b1) # (38, 6) @ (6, 100) -> (38, 100) + (100,) -> (38, 100)\n",
    "h.shape"
   ]
  },
  {
   "cell_type": "code",
   "execution_count": null,
   "id": "eb7987bb",
   "metadata": {},
   "outputs": [
    {
     "data": {
      "text/plain": [
       "torch.Size([38, 27])"
      ]
     },
     "execution_count": 44,
     "metadata": {},
     "output_type": "execute_result"
    }
   ],
   "source": [
    "# create output layer\n",
    "\n",
    "# initializing weights and biases for output layer\n",
    "W2 = torch.randn((100, 27)) # 100 neurons, 27 possible output chars\n",
    "b2 = torch.randn(27) # 27 biases, one per output char\n",
    "\n",
    "# outputs - logits\n",
    "logits = h @ W2 + b2 # (38, 27)\n",
    "logits.shape"
   ]
  },
  {
   "cell_type": "code",
   "execution_count": null,
   "id": "61370570",
   "metadata": {},
   "outputs": [
    {
     "name": "stdout",
     "output_type": "stream",
     "text": [
      "torch.Size([38, 27])\n"
     ]
    },
    {
     "data": {
      "text/plain": [
       "tensor(1.0000)"
      ]
     },
     "execution_count": 48,
     "metadata": {},
     "output_type": "execute_result"
    }
   ],
   "source": [
    "counts = logits.exp() # \"fake counts\"\n",
    "prob = counts / counts.sum(1, keepdim=True) # normalize into probabilities\n",
    "print(prob.shape)\n",
    "prob[0].sum() # should be 1.0"
   ]
  },
  {
   "cell_type": "code",
   "execution_count": 51,
   "id": "072820ca",
   "metadata": {},
   "outputs": [
    {
     "name": "stdout",
     "output_type": "stream",
     "text": [
      "tensor([4.4962e-11, 1.1478e-10, 7.1212e-08, 1.5932e-06, 7.3249e-07, 2.1359e-05,\n",
      "        6.9399e-16, 7.5984e-01, 3.0265e-06, 4.4399e-02, 8.3797e-05, 3.1178e-05,\n",
      "        1.0000e+00, 1.5385e-04, 1.7408e-09, 4.6086e-11, 4.7205e-11, 1.9919e-02,\n",
      "        1.1926e-10, 1.7136e-11, 5.0008e-13, 1.1081e-08, 7.5984e-01, 5.8214e-04,\n",
      "        7.5972e-16, 8.0738e-07, 4.3683e-08, 2.1018e-17, 7.5984e-01, 3.2249e-07,\n",
      "        4.6499e-11, 3.0142e-09, 4.3560e-08, 2.8964e-06, 9.1366e-10, 1.2794e-06,\n",
      "        6.0253e-13, 8.0574e-14])\n"
     ]
    },
    {
     "data": {
      "text/plain": [
       "tensor(16.8370)"
      ]
     },
     "execution_count": 51,
     "metadata": {},
     "output_type": "execute_result"
    }
   ],
   "source": [
    "print(prob[torch.arange(38), Y]) # probability of the correct next char for each of the 38 tokens\n",
    "loss = -prob[torch.arange(38), Y].log().mean() # negative log likelihood loss\n",
    "loss"
   ]
  },
  {
   "cell_type": "markdown",
   "id": "f8186cc0",
   "metadata": {},
   "source": [
    "### Training loop"
   ]
  },
  {
   "cell_type": "code",
   "execution_count": null,
   "id": "ee49b6c7",
   "metadata": {},
   "outputs": [
    {
     "name": "stdout",
     "output_type": "stream",
     "text": [
      "X shape:  torch.Size([228148, 3])    X.dtype:  torch.int64\n",
      "Y shape:  torch.Size([228148])       Y.dtype:  torch.int64\n"
     ]
    }
   ],
   "source": [
    "# creating dataset: context and target pairs\n",
    "\n",
    "context_length = 3 # how many chars to consider to predict the next char\n",
    "X, Y = [], []\n",
    "for name in names:\n",
    "\n",
    "    #print(\"Name: \", name)\n",
    "    context = [0] * context_length # initial context is all dots; this pads shorter words to match the context length\n",
    "    for char in name + '.':\n",
    "        ix = stoi[char]\n",
    "        X.append(context)\n",
    "        Y.append(ix)\n",
    "        #print(''.join(itos[i] for i in context), '----->', itos[ix])\n",
    "        context = context[1:] + [ix] # construct tokens \n",
    "\n",
    "X = torch.tensor(X)\n",
    "Y = torch.tensor(Y)\n",
    "\n",
    "# dataset\n",
    "print(\"X shape: \", X.shape, \"   X.dtype: \", X.dtype) # X has shape (vocab_size, context_length)\n",
    "print(\"Y shape: \", Y.shape, \"      Y.dtype: \", Y.dtype)"
   ]
  },
  {
   "cell_type": "code",
   "execution_count": 97,
   "id": "c5405125",
   "metadata": {},
   "outputs": [
    {
     "name": "stdout",
     "output_type": "stream",
     "text": [
      "3481\n"
     ]
    }
   ],
   "source": [
    "g = torch.Generator().manual_seed(978467474)\n",
    "C = torch.randn(27, 2, generator=g) # embedding lookup table: 27 possible characters, each represented by a 2-dim vector\n",
    "W1 = torch.randn((6, 100), generator=g) # 6 (3 character embeddings*2 dimensions each), 100 neurons (variable we choose)\n",
    "b1 = torch.randn(100, generator=g) # 100 biases, one per neuron\n",
    "W2 = torch.randn((100, 27), generator=g) # 100 neurons, 27 possible output chars\n",
    "b2 = torch.randn(27, generator=g) # 27 biases, one per output char\n",
    "\n",
    "parameters = [C, W1, b1, W2, b2] # all parameters of the model\n",
    "print(sum(p.nelement() for p in parameters)) # number of parameters in the model\n",
    "for p in parameters:\n",
    "    p.requires_grad = True"
   ]
  },
  {
   "cell_type": "code",
   "execution_count": 98,
   "id": "75ec8f2d",
   "metadata": {},
   "outputs": [],
   "source": [
    "# learning rate search space\n",
    "lre = torch.linspace(-3, 0, 1000) # log scale from 0.001 to 1.0\n",
    "lrs = 10**lre"
   ]
  },
  {
   "cell_type": "code",
   "execution_count": 99,
   "id": "2e0db70f",
   "metadata": {},
   "outputs": [],
   "source": [
    "lri = []\n",
    "lossi = []\n",
    "\n",
    "def train(iterations, lr):\n",
    "    for i in range(iterations): # training loop\n",
    "\n",
    "        # batch\n",
    "        ix = torch.randint(0, X.shape[0], (32,), generator=g) # random batch of 32 elements from the dataset\n",
    "\n",
    "        # forward pass \n",
    "        emb = C[X[ix]] # embedding lookup: for every of the 38 tokens' 3 chars in X, we get a 2-dim vector from C\n",
    "        h = torch.tanh(emb.view(emb.shape[0], 6) @ W1 + b1) # hidden layer\n",
    "        logits = h @ W2 + b2 \n",
    "\n",
    "        # same as the manual calculation from before, and more efficient (torch uses fused kernels, backward pass is simpler, well-behaved exp)\n",
    "        loss = F.cross_entropy(logits, Y[ix])\n",
    "\n",
    "        # backward pass\n",
    "        for p in parameters:\n",
    "            p.grad = None\n",
    "        loss.backward()\n",
    "\n",
    "        # update\n",
    "        #lr = lrs[i] # learning rate search\n",
    "        for p in parameters:\n",
    "            p.data += -lr * p.grad # gradient descent step\n",
    "\n",
    "        # track learning rate search stats\n",
    "        #lri.append(lre[i])\n",
    "        #lossi.append(loss.item())\n",
    "\n",
    "    # print(loss.item()) # loss per batch \n",
    "\n",
    "    emb = C[X] # embedding lookup: for every of the 38 tokens' 3 chars in X, we get a 2-dim vector from C\n",
    "    h = torch.tanh(emb.view(emb.shape[0], 6) @ W1 + b1) # hidden layer\n",
    "    logits = h @ W2 + b2 \n",
    "    loss = F.cross_entropy(logits, Y)\n",
    "    print(loss.item()) # loss over entire training set "
   ]
  },
  {
   "cell_type": "code",
   "execution_count": null,
   "id": "079745c5",
   "metadata": {},
   "outputs": [
    {
     "data": {
      "text/plain": [
       "[<matplotlib.lines.Line2D at 0x70ddf2752990>]"
      ]
     },
     "execution_count": 84,
     "metadata": {},
     "output_type": "execute_result"
    },
    {
     "data": {
      "image/png": "[encoded data removed]",
      "text/plain": [
       "<Figure size 640x480 with 1 Axes>"
      ]
     },
     "metadata": {},
     "output_type": "display_data"
    }
   ],
   "source": [
    "plt.plot(lri, lossi)\n",
    "# typical plot of learning rate vs loss; too high is unstable, too low is slow"
   ]
  },
  {
   "cell_type": "code",
   "execution_count": null,
   "id": "1e52d0b7",
   "metadata": {},
   "outputs": [
    {
     "name": "stdout",
     "output_type": "stream",
     "text": [
      "2.4819912910461426\n"
     ]
    }
   ],
   "source": [
    "# from search chart, 10**-1 is a good learning rate\n",
    "train(10000, 0.1)"
   ]
  },
  {
   "cell_type": "code",
   "execution_count": null,
   "id": "4527d439",
   "metadata": {},
   "outputs": [
    {
     "name": "stdout",
     "output_type": "stream",
     "text": [
      "2.376845121383667\n"
     ]
    }
   ],
   "source": [
    "# a few more\n",
    "train(10000, 0.1)"
   ]
  },
  {
   "cell_type": "code",
   "execution_count": 104,
   "id": "ce590554",
   "metadata": {},
   "outputs": [
    {
     "name": "stdout",
     "output_type": "stream",
     "text": [
      "2.307384729385376\n"
     ]
    }
   ],
   "source": [
    "# a learning rate decay once the above plateaus: crank up the iterations\n",
    "train(100000, 0.01)"
   ]
  },
  {
   "cell_type": "markdown",
   "id": "ab368b50",
   "metadata": {},
   "source": [
    "### Train/val/test"
   ]
  },
  {
   "cell_type": "code",
   "execution_count": 251,
   "id": "f16e2981",
   "metadata": {},
   "outputs": [
    {
     "name": "stdout",
     "output_type": "stream",
     "text": [
      "torch.Size([182581, 3]) torch.Size([182581])\n",
      "torch.Size([22737, 3]) torch.Size([22737])\n",
      "torch.Size([22830, 3]) torch.Size([22830])\n"
     ]
    }
   ],
   "source": [
    "# split into train, validation, and test sets (80/10/10)\n",
    "\n",
    "def build_dataset(names):\n",
    "    context_length = 3 \n",
    "    X, Y = [], []\n",
    "    for name in names:\n",
    "\n",
    "        context = [0] * context_length \n",
    "        for char in name + '.':\n",
    "            ix = stoi[char]\n",
    "            X.append(context)\n",
    "            Y.append(ix)\n",
    "            context = context[1:] + [ix]\n",
    "\n",
    "    X = torch.tensor(X)\n",
    "    Y = torch.tensor(Y)\n",
    "    print(X.shape, Y.shape)\n",
    "    return X,Y\n",
    "\n",
    "import random\n",
    "import numpy as np # for plots later\n",
    "random.seed(1337)\n",
    "random.shuffle(names)\n",
    "n1 = int(0.8*len(names))\n",
    "n2 = int(0.9*len(names))\n",
    "\n",
    "Xtrain, Ytrain = build_dataset(names[:n1])\n",
    "Xval, Yval = build_dataset(names[n1:n2])\n",
    "Xtest, Ytest = build_dataset(names[n2:])"
   ]
  },
  {
   "cell_type": "code",
   "execution_count": 207,
   "id": "dfc10c13",
   "metadata": {},
   "outputs": [
    {
     "name": "stdout",
     "output_type": "stream",
     "text": [
      "3481\n"
     ]
    }
   ],
   "source": [
    "# new network\n",
    "\n",
    "g = torch.Generator().manual_seed(978467474)\n",
    "C = torch.randn(27, 2, generator=g) # embedding lookup table: 27 possible characters, each represented by a 2-dim vector\n",
    "W1 = torch.randn((6, 100), generator=g) # 6 (3 character embeddings*2 dimensions each), 100 neurons (variable we choose)\n",
    "b1 = torch.randn(100, generator=g) # 100 biases, one per neuron\n",
    "W2 = torch.randn((100, 27), generator=g) # 100 neurons, 27 possible output chars\n",
    "b2 = torch.randn(27, generator=g) # 27 biases, one per output char\n",
    "\n",
    "parameters = [C, W1, b1, W2, b2] # all parameters of the model\n",
    "print(sum(p.nelement() for p in parameters)) # number of parameters in the model\n",
    "for p in parameters:\n",
    "    p.requires_grad = True"
   ]
  },
  {
   "cell_type": "code",
   "execution_count": 208,
   "id": "b3d40289",
   "metadata": {},
   "outputs": [],
   "source": [
    "# train on only the training partition\n",
    "\n",
    "def train(steps, lr, batch_size=32):\n",
    "    batch_losses = []  # added here to capture loss later when we scale up neuron count\n",
    "    for _ in range(steps):\n",
    "\n",
    "        # batch\n",
    "        ix = torch.randint(0, Xtrain.shape[0], (batch_size,))\n",
    "        # forward pass \n",
    "        emb = C[Xtrain[ix]]\n",
    "        h = torch.tanh(emb.view(emb.shape[0], 6) @ W1 + b1) # hidden layer\n",
    "        logits = h @ W2 + b2 \n",
    "        loss = F.cross_entropy(logits, Ytrain[ix])\n",
    "\n",
    "        # backward pass\n",
    "        for p in parameters:\n",
    "            p.grad = None\n",
    "        loss.backward()\n",
    "\n",
    "        # update\n",
    "        with torch.no_grad(): # no graph tracking for the update step\n",
    "            for p in parameters:\n",
    "                p.add_(p.grad, alpha=-lr)  # in-place, safe under no_grad\n",
    "\n",
    "        batch_losses.append(loss.item())\n",
    "    return batch_losses # added return here to capture loss later when we scale up neuron count\n",
    "\n",
    "    # print(loss.item()) # loss per batch \n",
    "\n",
    "def evaluate(X, Y):\n",
    "    emb = C[X]\n",
    "    h = torch.tanh(emb.view(emb.shape[0], 6) @ W1 + b1)\n",
    "    logits = h @ W2 + b2 \n",
    "    loss = F.cross_entropy(logits, Y)\n",
    "    #print(loss.item()) # loss over entire training set \n",
    "    return loss.item() # added return here to capture loss later when we scale up neuron count"
   ]
  },
  {
   "cell_type": "code",
   "execution_count": null,
   "id": "0d2d808f",
   "metadata": {},
   "outputs": [
    {
     "name": "stdout",
     "output_type": "stream",
     "text": [
      "2.6830074787139893\n",
      "2.577152967453003\n",
      "2.539738178253174\n",
      "2.61344838142395\n",
      "2.5758492946624756\n",
      "2.5285725593566895\n",
      "2.514735460281372\n",
      "2.49985671043396\n",
      "2.502826690673828\n",
      "2.479109287261963\n",
      "2.458143711090088\n",
      "2.516521453857422\n",
      "2.468508243560791\n",
      "2.535250186920166\n",
      "2.4502315521240234\n"
     ]
    }
   ],
   "source": [
    "for _ in range (15):\n",
    "    train(1000, 0.1)\n",
    "    evaluate(Xval, Yval)"
   ]
  },
  {
   "cell_type": "code",
   "execution_count": null,
   "id": "755a2337",
   "metadata": {},
   "outputs": [
    {
     "name": "stdout",
     "output_type": "stream",
     "text": [
      "2.359389305114746\n",
      "2.3725595474243164\n"
     ]
    }
   ],
   "source": [
    "train(20000, 0.01)\n",
    "evaluate(Xval, Yval)\n",
    "evaluate(Xtrain, Ytrain)\n",
    "\n",
    "# dev and test set performance is similar, no overfitting\n",
    "# but we are underfitting, so increase size"
   ]
  },
  {
   "cell_type": "markdown",
   "id": "dcd7a9d2",
   "metadata": {},
   "source": [
    "### Tuning"
   ]
  },
  {
   "cell_type": "code",
   "execution_count": 227,
   "id": "49594edf",
   "metadata": {},
   "outputs": [
    {
     "name": "stdout",
     "output_type": "stream",
     "text": [
      "10281\n"
     ]
    }
   ],
   "source": [
    "# 3x the neurons\n",
    "\n",
    "g = torch.Generator().manual_seed(978467474)\n",
    "C = torch.randn(27, 2, generator=g)\n",
    "W1 = torch.randn((6, 300), generator=g) \n",
    "b1 = torch.randn(300, generator=g)\n",
    "W2 = torch.randn((300, 27), generator=g)\n",
    "b2 = torch.randn(27, generator=g)\n",
    "\n",
    "parameters = [C, W1, b1, W2, b2] # all parameters of the model\n",
    "print(sum(p.nelement() for p in parameters)) # number of parameters in the model\n",
    "for p in parameters:\n",
    "    p.requires_grad = True"
   ]
  },
  {
   "cell_type": "code",
   "execution_count": 228,
   "id": "7b75f925",
   "metadata": {},
   "outputs": [],
   "source": [
    "# track training loss\n",
    "train_loss = []     # per step\n",
    "val_loss = []       # per epoch\n",
    "val_steps = []      # steps for each val_loss"
   ]
  },
  {
   "cell_type": "code",
   "execution_count": 229,
   "id": "55573ec2",
   "metadata": {},
   "outputs": [],
   "source": [
    "epochs = 200\n",
    "steps_per_epoch = 1000\n",
    "learning_rate = 0.1\n",
    "\n",
    "for _ in range (epochs): # longer training to converge for larger model \n",
    "    if _ == 100: learning_rate = 0.01 # learning rate decay\n",
    "    step_losses = train(steps_per_epoch, learning_rate, batch_size=256) # larger batch size to avoid noise\n",
    "    train_loss.extend(step_losses)\n",
    "    val_loss.append(evaluate(Xval, Yval))\n",
    "    val_steps.append(len(train_loss))  # plot val at the end of each epoch\n",
    "    # print(f\"Epoch {_+1}: val loss {val_loss[-1]}\")"
   ]
  },
  {
   "cell_type": "code",
   "execution_count": 234,
   "id": "128454f1",
   "metadata": {},
   "outputs": [
    {
     "name": "stdout",
     "output_type": "stream",
     "text": [
      "=== Loss summary ===\n",
      "Train — last: 2.2388  (epoch 200, step 200000)\n",
      "Train —  min: 2.2350  (epoch 185, step 185000)\n",
      "Val   — last: 2.2437     (epoch 200, step 200000)\n",
      "Val   —  min: 2.2410     (epoch 199, step 199000)\n"
     ]
    }
   ],
   "source": [
    "epoch_steps = np.arange(1, epochs+1) * steps_per_epoch\n",
    "\n",
    "epoch_means = [\n",
    "    float(np.mean(train_loss[i*steps_per_epoch:(i+1)*steps_per_epoch]))\n",
    "    for i in range(epochs)\n",
    "]\n",
    "\n",
    "ti = int(np.argmin(epoch_means))   # index of min train loss (epoch-averaged)\n",
    "vi = int(np.argmin(val_loss))      # index of min val loss (per epoch)\n",
    "\n",
    "print(\"=== Loss summary ===\")\n",
    "print(f\"Train — last: {epoch_means[-1]:.4f}  (epoch {epochs}, step {int(epoch_steps[-1])})\")\n",
    "print(f\"Train —  min: {epoch_means[ti]:.4f}  (epoch {ti+1}, step {int(epoch_steps[ti])})\")\n",
    "\n",
    "print(f\"Val   — last: {val_loss[-1]:.4f}     (epoch {len(val_loss)}, step {int(val_steps[-1])})\")\n",
    "print(f\"Val   —  min: {val_loss[vi]:.4f}     (epoch {vi+1}, step {int(val_steps[vi])})\")"
   ]
  },
  {
   "cell_type": "code",
   "execution_count": 235,
   "id": "64a6cebb",
   "metadata": {},
   "outputs": [
    {
     "data": {
      "image/png": "[encoded data removed]",
      "text/plain": [
       "<Figure size 640x480 with 1 Axes>"
      ]
     },
     "metadata": {},
     "output_type": "display_data"
    }
   ],
   "source": [
    "plt.figure()\n",
    "plt.plot(range(len(train_loss)), train_loss, label='train (per step)')\n",
    "plt.plot(val_steps, val_loss, label='val (per epoch)')\n",
    "plt.xlabel('training step')\n",
    "plt.ylabel('loss')\n",
    "plt.legend()\n",
    "plt.tight_layout()"
   ]
  },
  {
   "cell_type": "code",
   "execution_count": 236,
   "id": "35829cda",
   "metadata": {},
   "outputs": [
    {
     "data": {
      "image/png": "[encoded data removed]",
      "text/plain": [
       "<Figure size 640x480 with 1 Axes>"
      ]
     },
     "metadata": {},
     "output_type": "display_data"
    }
   ],
   "source": [
    "plt.figure()\n",
    "plt.plot(np.arange(1, epochs+1)*steps_per_epoch, epoch_means, label='train (epoch mean)')\n",
    "plt.plot(val_steps, val_loss,\n",
    "         marker='o', ms=3, mew=0.5, mfc='none', mec='auto', label='val')\n",
    "plt.xlabel('training step'); plt.ylabel('loss'); plt.legend(); plt.tight_layout()\n"
   ]
  },
  {
   "cell_type": "code",
   "execution_count": null,
   "id": "df82075a",
   "metadata": {},
   "outputs": [
    {
     "data": {
      "image/png": "[encoded data removed]",
      "text/plain": [
       "<Figure size 800x800 with 1 Axes>"
      ]
     },
     "metadata": {},
     "output_type": "display_data"
    }
   ],
   "source": [
    "# visualize embeddings for characters (for 2-dim embeddings)\n",
    "\n",
    "plt.figure(figsize=(8,8))\n",
    "plt.scatter(C[:,0].data, C[:,1].data, s=200)\n",
    "for i in range(C.shape[0]):\n",
    "    plt.text(C[i,0].item(), C[i,1].item(), itos[i], \n",
    "             ha='center', va='center', color='white')\n",
    "plt.grid('minor')"
   ]
  },
  {
   "cell_type": "code",
   "execution_count": 252,
   "id": "80eba2ae",
   "metadata": {},
   "outputs": [
    {
     "name": "stdout",
     "output_type": "stream",
     "text": [
      "13989\n"
     ]
    }
   ],
   "source": [
    "# 3x embedding size\n",
    "\n",
    "g = torch.Generator().manual_seed(978467474)\n",
    "C = torch.randn(27, 6, generator=g)\n",
    "W1 = torch.randn((18, 300), generator=g) \n",
    "b1 = torch.randn(300, generator=g)\n",
    "W2 = torch.randn((300, 27), generator=g)\n",
    "b2 = torch.randn(27, generator=g)\n",
    "\n",
    "parameters = [C, W1, b1, W2, b2] # all parameters of the model\n",
    "print(sum(p.nelement() for p in parameters)) # number of parameters in the model\n",
    "for p in parameters:\n",
    "    p.requires_grad = True\n",
    "\n",
    "\n",
    "# update embedding sizes (hardcoded)\n",
    "\n",
    "def train(steps, lr, batch_size=32):\n",
    "    batch_losses = []  # added here to capture loss later when we scale up neuron count\n",
    "    for _ in range(steps):\n",
    "\n",
    "        # batch\n",
    "        ix = torch.randint(0, Xtrain.shape[0], (batch_size,))\n",
    "        # forward pass \n",
    "        emb = C[Xtrain[ix]]\n",
    "        h = torch.tanh(emb.view(emb.shape[0], 18) @ W1 + b1) # hidden layer\n",
    "        logits = h @ W2 + b2 \n",
    "        loss = F.cross_entropy(logits, Ytrain[ix])\n",
    "\n",
    "        # backward pass\n",
    "        for p in parameters:\n",
    "            p.grad = None\n",
    "        loss.backward()\n",
    "\n",
    "        # update\n",
    "        with torch.no_grad(): # no graph tracking for the update step\n",
    "            for p in parameters:\n",
    "                p.add_(p.grad, alpha=-lr)  # in-place, safe under no_grad\n",
    "\n",
    "        batch_losses.append(loss.item())\n",
    "    return batch_losses # added return here to capture loss later when we scale up neuron count\n",
    "\n",
    "    # print(loss.item()) # loss per batch \n",
    "\n",
    "def evaluate(X, Y):\n",
    "    emb = C[X]\n",
    "    h = torch.tanh(emb.view(emb.shape[0], 18) @ W1 + b1)\n",
    "    logits = h @ W2 + b2 \n",
    "    loss = F.cross_entropy(logits, Y)\n",
    "    #print(loss.item()) # loss over entire training set \n",
    "    return loss.item() # added return here to capture loss later when we scale up neuron count\n",
    "\n",
    "\n",
    "\n",
    "# track training loss\n",
    "train_loss = []     # per step\n",
    "val_loss = []       # per epoch\n",
    "val_steps = []      # steps for each val_loss"
   ]
  },
  {
   "cell_type": "code",
   "execution_count": 253,
   "id": "288b8843",
   "metadata": {},
   "outputs": [],
   "source": [
    "epochs = 200\n",
    "steps_per_epoch = 1000\n",
    "learning_rate = 0.1\n",
    "\n",
    "for _ in range (epochs): # longer training to converge for larger model \n",
    "    if _ == 100: learning_rate = 0.01 # learning rate decay\n",
    "    step_losses = train(steps_per_epoch, learning_rate, batch_size=256) # larger batch size to avoid noise\n",
    "    train_loss.extend(step_losses)\n",
    "    val_loss.append(evaluate(Xval, Yval))\n",
    "    val_steps.append(len(train_loss))  # plot val at the end of each epoch\n",
    "    # print(f\"Epoch {_+1}: val loss {val_loss[-1]}\")"
   ]
  },
  {
   "cell_type": "code",
   "execution_count": 254,
   "id": "9bfeafa6",
   "metadata": {},
   "outputs": [
    {
     "name": "stdout",
     "output_type": "stream",
     "text": [
      "=== Loss summary ===\n",
      "Train — last: 2.1458  (epoch 200, step 200000)\n",
      "Train —  min: 2.1410  (epoch 175, step 175000)\n",
      "Val   — last: 2.1665     (epoch 200, step 200000)\n",
      "Val   —  min: 2.1659     (epoch 197, step 197000)\n"
     ]
    }
   ],
   "source": [
    "epoch_steps = np.arange(1, epochs+1) * steps_per_epoch\n",
    "\n",
    "epoch_means = [\n",
    "    float(np.mean(train_loss[i*steps_per_epoch:(i+1)*steps_per_epoch]))\n",
    "    for i in range(epochs)\n",
    "]\n",
    "\n",
    "ti = int(np.argmin(epoch_means))   # index of min train loss (epoch-averaged)\n",
    "vi = int(np.argmin(val_loss))      # index of min val loss (per epoch)\n",
    "\n",
    "print(\"=== Loss summary ===\")\n",
    "print(f\"Train — last: {epoch_means[-1]:.4f}  (epoch {epochs}, step {int(epoch_steps[-1])})\")\n",
    "print(f\"Train —  min: {epoch_means[ti]:.4f}  (epoch {ti+1}, step {int(epoch_steps[ti])})\")\n",
    "\n",
    "print(f\"Val   — last: {val_loss[-1]:.4f}     (epoch {len(val_loss)}, step {int(val_steps[-1])})\")\n",
    "print(f\"Val   —  min: {val_loss[vi]:.4f}     (epoch {vi+1}, step {int(val_steps[vi])})\")"
   ]
  },
  {
   "cell_type": "code",
   "execution_count": 255,
   "id": "defbda6a",
   "metadata": {},
   "outputs": [
    {
     "data": {
      "image/png": "[encoded data removed]",
      "text/plain": [
       "<Figure size 640x480 with 1 Axes>"
      ]
     },
     "metadata": {},
     "output_type": "display_data"
    }
   ],
   "source": [
    "plt.figure()\n",
    "plt.plot(np.arange(1, epochs+1)*steps_per_epoch, epoch_means, label='train (epoch mean)')\n",
    "plt.plot(val_steps, val_loss,\n",
    "         marker='o', ms=3, mew=0.5, mfc='none', mec='auto', label='val')\n",
    "plt.xlabel('training step'); plt.ylabel('loss'); plt.legend(); plt.tight_layout()\n"
   ]
  },
  {
   "cell_type": "code",
   "execution_count": null,
   "id": "936accfe",
   "metadata": {},
   "outputs": [
    {
     "name": "stdout",
     "output_type": "stream",
     "text": [
      "jamyann.\n",
      "brangele.\n",
      "cephrre.\n",
      "rae.\n",
      "rislaw.\n",
      "amariollian.\n",
      "anmien.\n",
      "sifonty.\n",
      "jace.\n",
      "hleynasht.\n",
      "milsex.\n",
      "nye.\n",
      "caysen.\n",
      "kachish.\n",
      "ize.\n",
      "layah.\n",
      "brohandi.\n",
      "richeezandreamoley.\n",
      "nakarime.\n",
      "jamilya.\n"
     ]
    }
   ],
   "source": [
    "# sample from the model\n",
    "for _ in range(20):\n",
    "    \n",
    "    out = []\n",
    "    context = [0] * 3 # context length\n",
    "    while True:\n",
    "      emb = C[torch.tensor([context])]\n",
    "      h = torch.tanh(emb.view(1, -1) @ W1 + b1)\n",
    "      logits = h @ W2 + b2\n",
    "      probs = F.softmax(logits, dim=1)\n",
    "      ix = torch.multinomial(probs, num_samples=1, generator=g).item()\n",
    "      context = context[1:] + [ix]\n",
    "      out.append(ix)\n",
    "      if ix == 0:\n",
    "        break\n",
    "    \n",
    "    print(''.join(itos[i] for i in out))"
   ]
  },
  {
   "cell_type": "code",
   "execution_count": 263,
   "id": "2bd8e99a",
   "metadata": {},
   "outputs": [
    {
     "name": "stdout",
     "output_type": "stream",
     "text": [
      "torch.Size([182533, 4]) torch.Size([182533])\n",
      "torch.Size([22807, 4]) torch.Size([22807])\n",
      "torch.Size([22808, 4]) torch.Size([22808])\n",
      "10589\n"
     ]
    }
   ],
   "source": [
    "# last test: use 4 character contexts instead of 3 \n",
    "\n",
    "def build_dataset(names):\n",
    "    context_length = 4 \n",
    "    X, Y = [], []\n",
    "    for name in names:\n",
    "\n",
    "        context = [0] * context_length \n",
    "        for char in name + '.':\n",
    "            ix = stoi[char]\n",
    "            X.append(context)\n",
    "            Y.append(ix)\n",
    "            context = context[1:] + [ix]\n",
    "\n",
    "    X = torch.tensor(X)\n",
    "    Y = torch.tensor(Y)\n",
    "    print(X.shape, Y.shape)\n",
    "    return X,Y\n",
    "\n",
    "import random\n",
    "import numpy as np\n",
    "random.seed(1337)\n",
    "random.shuffle(names)\n",
    "n1 = int(0.8*len(names))\n",
    "n2 = int(0.9*len(names))\n",
    "\n",
    "Xtrain, Ytrain = build_dataset(names[:n1])\n",
    "Xval, Yval = build_dataset(names[n1:n2])\n",
    "Xtest, Ytest = build_dataset(names[n2:])\n",
    "\n",
    "\n",
    "g = torch.Generator().manual_seed(978467474)\n",
    "C = torch.randn(27, 6, generator=g)\n",
    "W1 = torch.randn((24, 200), generator=g) \n",
    "b1 = torch.randn(200, generator=g)\n",
    "W2 = torch.randn((200, 27), generator=g)\n",
    "b2 = torch.randn(27, generator=g)\n",
    "\n",
    "parameters = [C, W1, b1, W2, b2] # all parameters of the model\n",
    "print(sum(p.nelement() for p in parameters)) # number of parameters in the model\n",
    "for p in parameters:\n",
    "    p.requires_grad = True\n",
    "\n",
    "# update embedding sizes (hardcoded)\n",
    "\n",
    "def train(steps, lr, batch_size=32):\n",
    "    batch_losses = []  # added here to capture loss later when we scale up neuron count\n",
    "    for _ in range(steps):\n",
    "\n",
    "        # batch\n",
    "        ix = torch.randint(0, Xtrain.shape[0], (batch_size,))\n",
    "        # forward pass \n",
    "        emb = C[Xtrain[ix]]\n",
    "        h = torch.tanh(emb.view(emb.shape[0], 24) @ W1 + b1) # hidden layer\n",
    "        logits = h @ W2 + b2 \n",
    "        loss = F.cross_entropy(logits, Ytrain[ix])\n",
    "\n",
    "        # backward pass\n",
    "        for p in parameters:\n",
    "            p.grad = None\n",
    "        loss.backward()\n",
    "\n",
    "        # update\n",
    "        with torch.no_grad(): # no graph tracking for the update step\n",
    "            for p in parameters:\n",
    "                p.add_(p.grad, alpha=-lr)  # in-place, safe under no_grad\n",
    "\n",
    "        batch_losses.append(loss.item())\n",
    "    return batch_losses # added return here to capture loss later when we scale up neuron count\n",
    "\n",
    "    # print(loss.item()) # loss per batch \n",
    "\n",
    "def evaluate(X, Y):\n",
    "    emb = C[X]\n",
    "    h = torch.tanh(emb.view(emb.shape[0], 24) @ W1 + b1)\n",
    "    logits = h @ W2 + b2 \n",
    "    loss = F.cross_entropy(logits, Y)\n",
    "    #print(loss.item()) # loss over entire training set \n",
    "    return loss.item() # added return here to capture loss later when we scale up neuron count\n",
    "\n",
    "\n",
    "\n",
    "# track training loss\n",
    "train_loss = []     # per step\n",
    "val_loss = []       # per epoch\n",
    "val_steps = []      # steps for each val_loss"
   ]
  },
  {
   "cell_type": "code",
   "execution_count": 264,
   "id": "f0090754",
   "metadata": {},
   "outputs": [],
   "source": [
    "epochs = 250\n",
    "steps_per_epoch = 1000\n",
    "learning_rate = 0.12\n",
    "\n",
    "for _ in range (epochs): # longer training to converge for larger model \n",
    "    if _ == 50: learning_rate = 0.06 # learning rate decay\n",
    "    if _ == 100: learning_rate = 0.01 # learning rate decay\n",
    "    step_losses = train(steps_per_epoch, learning_rate, batch_size=256) # larger batch size to avoid noise\n",
    "    train_loss.extend(step_losses)\n",
    "    val_loss.append(evaluate(Xval, Yval))\n",
    "    val_steps.append(len(train_loss))  # plot val at the end of each epoch\n",
    "    # print(f\"Epoch {_+1}: val loss {val_loss[-1]}\")"
   ]
  },
  {
   "cell_type": "code",
   "execution_count": 265,
   "id": "4508235e",
   "metadata": {},
   "outputs": [
    {
     "name": "stdout",
     "output_type": "stream",
     "text": [
      "=== Loss summary ===\n",
      "Train — last: 2.1594  (epoch 250, step 250000)\n",
      "Train —  min: 2.1573  (epoch 220, step 220000)\n",
      "Val   — last: 2.1892     (epoch 250, step 250000)\n",
      "Val   —  min: 2.1886     (epoch 245, step 245000)\n"
     ]
    }
   ],
   "source": [
    "epoch_steps = np.arange(1, epochs+1) * steps_per_epoch\n",
    "\n",
    "epoch_means = [\n",
    "    float(np.mean(train_loss[i*steps_per_epoch:(i+1)*steps_per_epoch]))\n",
    "    for i in range(epochs)\n",
    "]\n",
    "\n",
    "ti = int(np.argmin(epoch_means))   # index of min train loss (epoch-averaged)\n",
    "vi = int(np.argmin(val_loss))      # index of min val loss (per epoch)\n",
    "\n",
    "print(\"=== Loss summary ===\")\n",
    "print(f\"Train — last: {epoch_means[-1]:.4f}  (epoch {epochs}, step {int(epoch_steps[-1])})\")\n",
    "print(f\"Train —  min: {epoch_means[ti]:.4f}  (epoch {ti+1}, step {int(epoch_steps[ti])})\")\n",
    "\n",
    "print(f\"Val   — last: {val_loss[-1]:.4f}     (epoch {len(val_loss)}, step {int(val_steps[-1])})\")\n",
    "print(f\"Val   —  min: {val_loss[vi]:.4f}     (epoch {vi+1}, step {int(val_steps[vi])})\")"
   ]
  },
  {
   "cell_type": "code",
   "execution_count": 266,
   "id": "5b840ffc",
   "metadata": {},
   "outputs": [
    {
     "data": {
      "image/png": "[encoded data removed]",
      "text/plain": [
       "<Figure size 640x480 with 1 Axes>"
      ]
     },
     "metadata": {},
     "output_type": "display_data"
    }
   ],
   "source": [
    "plt.figure()\n",
    "plt.plot(np.arange(1, epochs+1)*steps_per_epoch, epoch_means, label='train (epoch mean)')\n",
    "plt.plot(val_steps, val_loss,\n",
    "         marker='o', ms=3, mew=0.5, mfc='none', mec='auto', label='val')\n",
    "plt.xlabel('training step'); plt.ylabel('loss'); plt.legend(); plt.tight_layout()\n"
   ]
  },
  {
   "cell_type": "code",
   "execution_count": 267,
   "id": "98ed4a9e",
   "metadata": {},
   "outputs": [
    {
     "name": "stdout",
     "output_type": "stream",
     "text": [
      "noshya.\n",
      "kalan.\n",
      "rick.\n",
      "marie.\n",
      "aman.\n",
      "lenae.\n",
      "praniella.\n",
      "madro.\n",
      "eserisjaynne.\n",
      "kene.\n",
      "amilahna.\n",
      "deila.\n",
      "kymay.\n",
      "rian.\n",
      "rancello.\n",
      "vedth.\n",
      "shathaum.\n",
      "prebviel.\n",
      "defas.\n",
      "duaz.\n"
     ]
    }
   ],
   "source": [
    "# sample from the model\n",
    "for _ in range(20):\n",
    "    \n",
    "    out = []\n",
    "    context = [0] * 4\n",
    "    while True:\n",
    "      emb = C[torch.tensor([context])]\n",
    "      h = torch.tanh(emb.view(1, -1) @ W1 + b1)\n",
    "      logits = h @ W2 + b2\n",
    "      probs = F.softmax(logits, dim=1)\n",
    "      ix = torch.multinomial(probs, num_samples=1, generator=g).item()\n",
    "      context = context[1:] + [ix]\n",
    "      out.append(ix)\n",
    "      if ix == 0:\n",
    "        break\n",
    "    \n",
    "    print(''.join(itos[i] for i in out))"
   ]
  },
  {
   "cell_type": "markdown",
   "id": "9c38ba9b",
   "metadata": {},
   "source": [
    "#### Exercises:\n",
    "- [x] E01: Tune the hyperparameters of the training to beat a validation loss of 2.2\n",
    "- [ ] E02: (1) What is the loss you'd get if the predicted probabilities at initialization were perfectly uniform? What loss do we achieve? (2) Can you tune the initialization to get a starting loss that is much more similar to (1)?\n",
    "- [ ] E03: Read the Bengio et al 2003 paper (link above), implement and try any idea from the paper. Did it work?"
   ]
  },
  {
   "cell_type": "markdown",
   "id": "70cea616",
   "metadata": {},
   "source": [
    "### Exercise: "
   ]
  },
  {
   "cell_type": "code",
   "execution_count": null,
   "id": "b275fba6",
   "metadata": {},
   "outputs": [],
   "source": []
  }
 ],
 "metadata": {
  "kernelspec": {
   "display_name": ".venv",
   "language": "python",
   "name": "python3"
  },
  "language_info": {
   "codemirror_mode": {
    "name": "ipython",
    "version": 3
   },
   "file_extension": ".py",
   "mimetype": "text/x-python",
   "name": "python",
   "nbconvert_exporter": "python",
   "pygments_lexer": "ipython3",
   "version": "3.12.3"
  }
 },
 "nbformat": 4,
 "nbformat_minor": 5
}
