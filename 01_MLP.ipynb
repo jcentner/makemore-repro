{
 "cells": [
  {
   "cell_type": "markdown",
   "id": "e156ca27",
   "metadata": {},
   "source": [
    "## makemore - MLP"
   ]
  },
  {
   "cell_type": "markdown",
   "id": "2c0c549f",
   "metadata": {},
   "source": [
    "## [Bengio, et al. 2003: A Neural Probabilistic Language Model](https://www.jmlr.org/papers/volume3/bengio03a/bengio03a.pdf)\n",
    "\n"
   ]
  }
 ],
 "metadata": {
  "language_info": {
   "name": "python"
  }
 },
 "nbformat": 4,
 "nbformat_minor": 5
}
