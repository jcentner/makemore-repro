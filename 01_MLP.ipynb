{
 "cells": [
  {
   "cell_type": "markdown",
   "id": "e156ca27",
   "metadata": {},
   "source": [
    "## makemore - MLP"
   ]
  },
  {
   "cell_type": "markdown",
   "id": "2c0c549f",
   "metadata": {},
   "source": [
    "### Implementing [Bengio, et al. 2003: A Neural Probabilistic Language Model](https://www.jmlr.org/papers/volume3/bengio03a/bengio03a.pdf)\n",
    "\n",
    "This implementation introduces:\n",
    "- more sophisticated embeddings\n",
    "- hyperparameters\n",
    "- learning rate tuning\n",
    "- train/test/dev set split\n",
    "- under- and over-fitting"
   ]
  },
  {
   "cell_type": "code",
   "execution_count": 3,
   "id": "b9f5330d",
   "metadata": {},
   "outputs": [
    {
     "name": "stdout",
     "output_type": "stream",
     "text": [
      "Sample names:  ['charlotte', 'mia', 'amelia', 'harper', 'evelyn', 'abigail', 'emily']\n",
      "Character mapping:  {1: 'a', 2: 'b', 3: 'c', 4: 'd', 5: 'e', 6: 'f', 7: 'g', 8: 'h', 9: 'i', 10: 'j', 11: 'k', 12: 'l', 13: 'm', 14: 'n', 15: 'o', 16: 'p', 17: 'q', 18: 'r', 19: 's', 20: 't', 21: 'u', 22: 'v', 23: 'w', 24: 'x', 25: 'y', 26: 'z', 0: '.'}\n"
     ]
    }
   ],
   "source": [
    "import torch\n",
    "import torch.nn.functional as F\n",
    "import matplotlib.pyplot as plt\n",
    "%matplotlib inline\n",
    "\n",
    "names = open('data/names.txt', 'r').read().splitlines()\n",
    "print(\"Sample names: \", names[5:12])\n",
    "\n",
    "\n",
    "# create char to index mapping for set (vocabulary) of chars in names\n",
    "chars = sorted(list(set(''.join(names))))\n",
    "stoi = {s:i+1 for i,s in enumerate(chars)}\n",
    "stoi['.'] = 0\n",
    "itos = {i:s for s,i in stoi.items()}\n",
    "print(\"Character mapping: \", itos)"
   ]
  },
  {
   "cell_type": "code",
   "execution_count": 27,
   "id": "cd822625",
   "metadata": {},
   "outputs": [
    {
     "name": "stdout",
     "output_type": "stream",
     "text": [
      "Name:  harper\n",
      "... -----> h\n",
      "..h -----> a\n",
      ".ha -----> r\n",
      "har -----> p\n",
      "arp -----> e\n",
      "rpe -----> r\n",
      "per -----> .\n",
      "Name:  evelyn\n",
      "... -----> e\n",
      "..e -----> v\n",
      ".ev -----> e\n",
      "eve -----> l\n",
      "vel -----> y\n",
      "ely -----> n\n",
      "lyn -----> .\n",
      "Name:  abigail\n",
      "... -----> a\n",
      "..a -----> b\n",
      ".ab -----> i\n",
      "abi -----> g\n",
      "big -----> a\n",
      "iga -----> i\n",
      "gai -----> l\n",
      "ail -----> .\n",
      "Name:  emily\n",
      "... -----> e\n",
      "..e -----> m\n",
      ".em -----> i\n",
      "emi -----> l\n",
      "mil -----> y\n",
      "ily -----> .\n",
      "Name:  elizabeth\n",
      "... -----> e\n",
      "..e -----> l\n",
      ".el -----> i\n",
      "eli -----> z\n",
      "liz -----> a\n",
      "iza -----> b\n",
      "zab -----> e\n",
      "abe -----> t\n",
      "bet -----> h\n",
      "eth -----> .\n",
      "X shape:  torch.Size([38, 3])    X.dtype:  torch.int64\n",
      "Y shape:  torch.Size([38])       Y.dtype:  torch.int64\n"
     ]
    }
   ],
   "source": [
    "# creating dataset: context and target pairs\n",
    "# before, we used one-hot encoding; this will now be used for an embedding lookup table\n",
    "# and eventually transform into modern vector embeddings \n",
    "\n",
    "context_length = 3 # how many chars to consider to predict the next char\n",
    "X, Y = [], []\n",
    "for name in names[8:13]:\n",
    "\n",
    "    print(\"Name: \", name)\n",
    "    context = [0] * context_length # initial context is all dots; this pads shorter words to match the context length\n",
    "    for char in name + '.':\n",
    "        ix = stoi[char]\n",
    "        X.append(context)\n",
    "        Y.append(ix)\n",
    "        print(''.join(itos[i] for i in context), '----->', itos[ix])\n",
    "        context = context[1:] + [ix] # construct tokens \n",
    "\n",
    "X = torch.tensor(X)\n",
    "Y = torch.tensor(Y)\n",
    "\n",
    "print(\"X shape: \", X.shape, \"   X.dtype: \", X.dtype) # X has shape (vocab_size, context_length)\n",
    "print(\"Y shape: \", Y.shape, \"      Y.dtype: \", Y.dtype)"
   ]
  },
  {
   "cell_type": "code",
   "execution_count": 32,
   "id": "9483114e",
   "metadata": {},
   "outputs": [
    {
     "name": "stdout",
     "output_type": "stream",
     "text": [
      "torch.Size([38, 3, 2])\n"
     ]
    },
    {
     "data": {
      "text/plain": [
       "tensor([0.7360, 0.6085])"
      ]
     },
     "execution_count": 32,
     "metadata": {},
     "output_type": "execute_result"
    }
   ],
   "source": [
    "# creating embedding lookup table\n",
    "C = torch.randn(27, 2) # embedding lookup table: 27 possible characters, each represented by a 2-dim vector\n",
    "\n",
    "# C[X] \"C at X\" # (vocab_size, context_length) -> (vocab_size, context_length, embedding_dim)\n",
    "emb = C[X] # embedding lookup: for every of the 38 tokens' 3 chars in X, we get a 2-dim vector from C\n",
    "print(emb.shape)\n",
    "\n",
    "emb[13,2] # for example, the embedding of the 3rd char in the 14th token in the dataset"
   ]
  },
  {
   "cell_type": "code",
   "execution_count": null,
   "id": "868dad17",
   "metadata": {},
   "outputs": [
    {
     "name": "stdout",
     "output_type": "stream",
     "text": [
      "torch.Size([38, 6])\n"
     ]
    },
    {
     "data": {
      "text/plain": [
       "torch.Size([38, 6])"
      ]
     },
     "execution_count": 33,
     "metadata": {},
     "output_type": "execute_result"
    }
   ],
   "source": [
    "# constructing hidden layer \n",
    "# weights\n",
    "W1 = torch.randn((6, 100)) # 6 (3 character embeddings*2 dimensions each), 100 neurons (variable we choose)\n",
    "# biases\n",
    "b1 = torch.randn(100) # 100 biases, one per neuron\n",
    "\n",
    "# need 38 x 6 matrix to multiple with W1 - concatenate the 3 embeddings of 2 dimensions each\n",
    "print(torch.cat([emb[:, 0, :] , emb[:, 1, :], emb[:, 2, :]], dim=1).shape) # each are (38, 2), treat as a sequence\n",
    "\n",
    "# generalize the above concatenation for other context lengths with unbind\n",
    "torch.cat(torch.unbind(emb, 1), 1).shape # unbind splits the tensor into a tuple of 3 tensors, each of shape (38, 2)"
   ]
  },
  {
   "cell_type": "code",
   "execution_count": null,
   "id": "4bb429af",
   "metadata": {},
   "outputs": [],
   "source": []
  },
  {
   "cell_type": "markdown",
   "id": "9c38ba9b",
   "metadata": {},
   "source": [
    "#### Exercises:\n",
    "- [ ] E01: Tune the hyperparameters of the training to beat a validation loss of 2.2\n",
    "- [ ] E02: (1) What is the loss you'd get if the predicted probabilities at initialization were perfectly uniform? What loss do we achieve? (2) Can you tune the initialization to get a starting loss that is much more similar to (1)?\n",
    "- [ ] E03: Read the Bengio et al 2003 paper (link above), implement and try any idea from the paper. Did it work?"
   ]
  },
  {
   "cell_type": "markdown",
   "id": "70cea616",
   "metadata": {},
   "source": [
    "### Exercise: "
   ]
  }
 ],
 "metadata": {
  "kernelspec": {
   "display_name": ".venv",
   "language": "python",
   "name": "python3"
  },
  "language_info": {
   "codemirror_mode": {
    "name": "ipython",
    "version": 3
   },
   "file_extension": ".py",
   "mimetype": "text/x-python",
   "name": "python",
   "nbconvert_exporter": "python",
   "pygments_lexer": "ipython3",
   "version": "3.12.3"
  }
 },
 "nbformat": 4,
 "nbformat_minor": 5
}
