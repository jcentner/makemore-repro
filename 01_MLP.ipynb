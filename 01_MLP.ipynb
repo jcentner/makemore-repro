{
 "cells": [
  {
   "cell_type": "markdown",
   "id": "e156ca27",
   "metadata": {},
   "source": [
    "## makemore - MLP"
   ]
  },
  {
   "cell_type": "markdown",
   "id": "2c0c549f",
   "metadata": {},
   "source": [
    "### Implementing [Bengio, et al. 2003: A Neural Probabilistic Language Model](https://www.jmlr.org/papers/volume3/bengio03a/bengio03a.pdf)\n",
    "\n",
    "This implementation introduces:\n",
    "- more sophisticated embeddings\n",
    "- hyperparameters\n",
    "- learning rate tuning\n",
    "- train/test/dev set split\n",
    "- under- and over-fitting"
   ]
  },
  {
   "cell_type": "code",
   "execution_count": 2,
   "id": "b9f5330d",
   "metadata": {},
   "outputs": [
    {
     "name": "stdout",
     "output_type": "stream",
     "text": [
      "Sample names:  ['charlotte', 'mia', 'amelia', 'harper', 'evelyn', 'abigail', 'emily']\n",
      "{1: 'a', 2: 'b', 3: 'c', 4: 'd', 5: 'e', 6: 'f', 7: 'g', 8: 'h', 9: 'i', 10: 'j', 11: 'k', 12: 'l', 13: 'm', 14: 'n', 15: 'o', 16: 'p', 17: 'q', 18: 'r', 19: 's', 20: 't', 21: 'u', 22: 'v', 23: 'w', 24: 'x', 25: 'y', 26: 'z', 0: '.'}\n"
     ]
    }
   ],
   "source": [
    "import torch\n",
    "import torch.nn.functional as F\n",
    "import matplotlib.pyplot as plt\n",
    "%matplotlib inline\n",
    "\n",
    "names = open('data/names.txt', 'r').read().splitlines()\n",
    "print(\"Sample names: \", names[5:12])\n",
    "\n",
    "\n",
    "# create char to index mapping for set (vocabulary) of chars in names\n",
    "chars = sorted(list(set(''.join(names))))\n",
    "stoi = {s:i+1 for i,s in enumerate(chars)}\n",
    "stoi['.'] = 0\n",
    "itos = {i:s for s,i in stoi.items()}\n",
    "print(itos)"
   ]
  },
  {
   "cell_type": "markdown",
   "id": "9c38ba9b",
   "metadata": {},
   "source": [
    "#### Exercises:\n",
    "- [ ] E01: Tune the hyperparameters of the training to beat a validation loss of 2.2\n",
    "- [ ] E02: (1) What is the loss you'd get if the predicted probabilities at initialization were perfectly uniform? What loss do we achieve? (2) Can you tune the initialization to get a starting loss that is much more similar to (1)?\n",
    "- [ ] E03: Read the Bengio et al 2003 paper (link above), implement and try any idea from the paper. Did it work?"
   ]
  },
  {
   "cell_type": "markdown",
   "id": "70cea616",
   "metadata": {},
   "source": [
    "### Exercise: "
   ]
  }
 ],
 "metadata": {
  "kernelspec": {
   "display_name": ".venv",
   "language": "python",
   "name": "python3"
  },
  "language_info": {
   "codemirror_mode": {
    "name": "ipython",
    "version": 3
   },
   "file_extension": ".py",
   "mimetype": "text/x-python",
   "name": "python",
   "nbconvert_exporter": "python",
   "pygments_lexer": "ipython3",
   "version": "3.12.3"
  }
 },
 "nbformat": 4,
 "nbformat_minor": 5
}
