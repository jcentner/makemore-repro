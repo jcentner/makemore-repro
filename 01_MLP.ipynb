{
 "cells": [
  {
   "cell_type": "markdown",
   "id": "e156ca27",
   "metadata": {},
   "source": [
    "## makemore - MLP"
   ]
  },
  {
   "cell_type": "markdown",
   "id": "2c0c549f",
   "metadata": {},
   "source": [
    "### Implementing [Bengio, et al. 2003: A Neural Probabilistic Language Model](https://www.jmlr.org/papers/volume3/bengio03a/bengio03a.pdf)\n",
    "\n",
    "This implementation introduces:\n",
    "- more sophisticated embeddings\n",
    "- hyperparameters\n",
    "- learning rate tuning\n",
    "- train/test/dev set split\n",
    "- under- and over-fitting"
   ]
  },
  {
   "cell_type": "code",
   "execution_count": 3,
   "id": "b9f5330d",
   "metadata": {},
   "outputs": [
    {
     "name": "stdout",
     "output_type": "stream",
     "text": [
      "Sample names:  ['charlotte', 'mia', 'amelia', 'harper', 'evelyn', 'abigail', 'emily']\n",
      "Character mapping:  {1: 'a', 2: 'b', 3: 'c', 4: 'd', 5: 'e', 6: 'f', 7: 'g', 8: 'h', 9: 'i', 10: 'j', 11: 'k', 12: 'l', 13: 'm', 14: 'n', 15: 'o', 16: 'p', 17: 'q', 18: 'r', 19: 's', 20: 't', 21: 'u', 22: 'v', 23: 'w', 24: 'x', 25: 'y', 26: 'z', 0: '.'}\n"
     ]
    }
   ],
   "source": [
    "import torch\n",
    "import torch.nn.functional as F\n",
    "import matplotlib.pyplot as plt\n",
    "%matplotlib inline\n",
    "\n",
    "names = open('data/names.txt', 'r').read().splitlines()\n",
    "print(\"Sample names: \", names[5:12])\n",
    "\n",
    "\n",
    "# create char to index mapping for set (vocabulary) of chars in names\n",
    "chars = sorted(list(set(''.join(names))))\n",
    "stoi = {s:i+1 for i,s in enumerate(chars)}\n",
    "stoi['.'] = 0\n",
    "itos = {i:s for s,i in stoi.items()}\n",
    "print(\"Character mapping: \", itos)"
   ]
  },
  {
   "cell_type": "code",
   "execution_count": 13,
   "id": "cd822625",
   "metadata": {},
   "outputs": [
    {
     "name": "stdout",
     "output_type": "stream",
     "text": [
      "Name:  harper\n",
      "... -----> h\n",
      "..h -----> a\n",
      ".ha -----> r\n",
      "har -----> p\n",
      "arp -----> e\n",
      "rpe -----> r\n",
      "per -----> .\n",
      "Name:  evelyn\n",
      "... -----> e\n",
      "..e -----> v\n",
      ".ev -----> e\n",
      "eve -----> l\n",
      "vel -----> y\n",
      "ely -----> n\n",
      "lyn -----> .\n",
      "Name:  abigail\n",
      "... -----> a\n",
      "..a -----> b\n",
      ".ab -----> i\n",
      "abi -----> g\n",
      "big -----> a\n",
      "iga -----> i\n",
      "gai -----> l\n",
      "ail -----> .\n",
      "Name:  emily\n",
      "... -----> e\n",
      "..e -----> m\n",
      ".em -----> i\n",
      "emi -----> l\n",
      "mil -----> y\n",
      "ily -----> .\n",
      "X shape:  torch.Size([28, 3])    X.dtype:  torch.int64\n",
      "Y shape:  torch.Size([28])       Y.dtype:  torch.int64\n"
     ]
    }
   ],
   "source": [
    "# creating dataset: context and target pairs\n",
    "# before, we used one-hot encoding; this will now be used for an embedding lookup table\n",
    "# and eventually transform into modern vector embeddings \n",
    "\n",
    "context_length = 3 # how many chars to consider to predict the next char\n",
    "X, Y = [], []\n",
    "for name in names[8:12]:\n",
    "\n",
    "    print(\"Name: \", name)\n",
    "    context = [0] * context_length # initial context is all dots; this pads shorter words to match the context length\n",
    "    for char in name + '.':\n",
    "        ix = stoi[char]\n",
    "        X.append(context)\n",
    "        Y.append(ix)\n",
    "        print(''.join(itos[i] for i in context), '----->', itos[ix])\n",
    "        context = context[1:] + [ix]\n",
    "\n",
    "X = torch.tensor(X)\n",
    "Y = torch.tensor(Y)\n",
    "\n",
    "print(\"X shape: \", X.shape, \"   X.dtype: \", X.dtype) # X has shape (vocab_size, context_length)\n",
    "print(\"Y shape: \", Y.shape, \"      Y.dtype: \", Y.dtype)"
   ]
  },
  {
   "cell_type": "code",
   "execution_count": 12,
   "id": "9483114e",
   "metadata": {},
   "outputs": [
    {
     "data": {
      "text/plain": [
       "tensor([1.0449, 0.5345])"
      ]
     },
     "execution_count": 12,
     "metadata": {},
     "output_type": "execute_result"
    }
   ],
   "source": [
    "C = torch.randn(27, 2) # embedding lookup table: 27 possible characters, each represented by a 2-dim vector\n",
    "\n",
    "F.one_hot(torch.tensor(5), num_classes=27).float() @ C # one-hot encoding of index 5 in a vocab of size 27"
   ]
  },
  {
   "cell_type": "markdown",
   "id": "9c38ba9b",
   "metadata": {},
   "source": [
    "#### Exercises:\n",
    "- [ ] E01: Tune the hyperparameters of the training to beat a validation loss of 2.2\n",
    "- [ ] E02: (1) What is the loss you'd get if the predicted probabilities at initialization were perfectly uniform? What loss do we achieve? (2) Can you tune the initialization to get a starting loss that is much more similar to (1)?\n",
    "- [ ] E03: Read the Bengio et al 2003 paper (link above), implement and try any idea from the paper. Did it work?"
   ]
  },
  {
   "cell_type": "markdown",
   "id": "70cea616",
   "metadata": {},
   "source": [
    "### Exercise: "
   ]
  }
 ],
 "metadata": {
  "kernelspec": {
   "display_name": ".venv",
   "language": "python",
   "name": "python3"
  },
  "language_info": {
   "codemirror_mode": {
    "name": "ipython",
    "version": 3
   },
   "file_extension": ".py",
   "mimetype": "text/x-python",
   "name": "python",
   "nbconvert_exporter": "python",
   "pygments_lexer": "ipython3",
   "version": "3.12.3"
  }
 },
 "nbformat": 4,
 "nbformat_minor": 5
}
