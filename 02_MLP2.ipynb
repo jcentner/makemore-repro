{
 "cells": [
  {
   "cell_type": "markdown",
   "id": "a3c490ac",
   "metadata": {},
   "source": [
    "## makemore - MLP v2, closer look"
   ]
  },
  {
   "cell_type": "markdown",
   "id": "aef85ad7",
   "metadata": {},
   "source": [
    "This implementation includes:\n",
    "- Multiple layers\n",
    "- Diagnostics and visualizations\n",
    "- BatchNorm"
   ]
  },
  {
   "cell_type": "code",
   "execution_count": null,
   "id": "1c5fd54d",
   "metadata": {
    "vscode": {
     "languageId": "plaintext"
    }
   },
   "outputs": [],
   "source": []
  }
 ],
 "metadata": {
  "language_info": {
   "name": "python"
  }
 },
 "nbformat": 4,
 "nbformat_minor": 5
}
