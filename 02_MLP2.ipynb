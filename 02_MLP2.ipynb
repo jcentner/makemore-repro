{
 "cells": [
  {
   "cell_type": "markdown",
   "id": "a3c490ac",
   "metadata": {},
   "source": [
    "## makemore - MLP v2, closer look"
   ]
  },
  {
   "cell_type": "markdown",
   "id": "aef85ad7",
   "metadata": {},
   "source": [
    "This implementation includes:\n",
    "- Multiple layers\n",
    "- Diagnostics and visualizations\n",
    "- BatchNorm"
   ]
  },
  {
   "cell_type": "code",
   "execution_count": 3,
   "id": "1c5fd54d",
   "metadata": {},
   "outputs": [
    {
     "name": "stdout",
     "output_type": "stream",
     "text": [
      "Sample names:  ['charlotte', 'mia', 'amelia', 'harper', 'evelyn', 'abigail', 'emily']\n",
      "Number of names:  32033\n",
      "Character mapping:  {1: 'a', 2: 'b', 3: 'c', 4: 'd', 5: 'e', 6: 'f', 7: 'g', 8: 'h', 9: 'i', 10: 'j', 11: 'k', 12: 'l', 13: 'm', 14: 'n', 15: 'o', 16: 'p', 17: 'q', 18: 'r', 19: 's', 20: 't', 21: 'u', 22: 'v', 23: 'w', 24: 'x', 25: 'y', 26: 'z', 0: '.'}\n",
      "Vocab Size:  27\n"
     ]
    }
   ],
   "source": [
    "import torch\n",
    "import torch.nn.functional as F\n",
    "import matplotlib.pyplot as plt\n",
    "%matplotlib inline\n",
    "\n",
    "import random\n",
    "import numpy as np\n",
    "\n",
    "names = open('data/names.txt', 'r').read().splitlines()\n",
    "print(\"Sample names: \", names[5:12])\n",
    "print(\"Number of names: \", len(names))\n",
    "\n",
    "# create char to index mapping for set (vocabulary) of chars in names\n",
    "chars = sorted(list(set(''.join(names))))\n",
    "stoi = {s:i+1 for i,s in enumerate(chars)}\n",
    "stoi['.'] = 0\n",
    "itos = {i:s for s,i in stoi.items()}\n",
    "vocab_size = len(itos)\n",
    "print(\"Character mapping: \", itos)\n",
    "print(\"Vocab Size: \", vocab_size)"
   ]
  },
  {
   "cell_type": "code",
   "execution_count": null,
   "id": "802f6bfb",
   "metadata": {},
   "outputs": [
    {
     "name": "stdout",
     "output_type": "stream",
     "text": [
      "torch.Size([182594, 3]) torch.Size([182594])\n",
      "torch.Size([22690, 3]) torch.Size([22690])\n",
      "torch.Size([22864, 3]) torch.Size([22864])\n"
     ]
    }
   ],
   "source": [
    "def build_dataset(names):\n",
    "    context_length = 3 \n",
    "    X, Y = [], []\n",
    "    for name in names:\n",
    "\n",
    "        context = [0] * context_length \n",
    "        for char in name + '.':\n",
    "            ix = stoi[char]\n",
    "            X.append(context)\n",
    "            Y.append(ix)\n",
    "            context = context[1:] + [ix]\n",
    "\n",
    "    X = torch.tensor(X)\n",
    "    Y = torch.tensor(Y)\n",
    "    print(X.shape, Y.shape)\n",
    "    return X,Y\n",
    "\n",
    "random.seed(1337)\n",
    "random.shuffle(names)\n",
    "n1 = int(0.8*len(names))\n",
    "n2 = int(0.9*len(names))\n",
    "\n",
    "Xtrain, Ytrain = build_dataset(names[:n1])  # 80%\n",
    "Xval, Yval = build_dataset(names[n1:n2])    # 10%\n",
    "Xtest, Ytest = build_dataset(names[n2:])    # 10%"
   ]
  },
  {
   "cell_type": "code",
   "execution_count": null,
   "id": "b640d7a9",
   "metadata": {},
   "outputs": [],
   "source": [
    "dim_embed = 10\n",
    "hidden_layer_size = 200\n",
    "context_length = 3\n",
    "\n"
   ]
  }
 ],
 "metadata": {
  "kernelspec": {
   "display_name": ".venv",
   "language": "python",
   "name": "python3"
  },
  "language_info": {
   "codemirror_mode": {
    "name": "ipython",
    "version": 3
   },
   "file_extension": ".py",
   "mimetype": "text/x-python",
   "name": "python",
   "nbconvert_exporter": "python",
   "pygments_lexer": "ipython3",
   "version": "3.12.3"
  }
 },
 "nbformat": 4,
 "nbformat_minor": 5
}
