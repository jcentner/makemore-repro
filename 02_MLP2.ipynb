{
 "cells": [
  {
   "cell_type": "markdown",
   "id": "a3c490ac",
   "metadata": {},
   "source": [
    "## makemore - MLP v2, closer look"
   ]
  },
  {
   "cell_type": "markdown",
   "id": "aef85ad7",
   "metadata": {},
   "source": [
    "This implementation includes:\n",
    "- Multiple layers\n",
    "- Diagnostics and visualizations\n",
    "- BatchNorm"
   ]
  },
  {
   "cell_type": "code",
   "execution_count": 3,
   "id": "1c5fd54d",
   "metadata": {},
   "outputs": [
    {
     "name": "stdout",
     "output_type": "stream",
     "text": [
      "Sample names:  ['charlotte', 'mia', 'amelia', 'harper', 'evelyn', 'abigail', 'emily']\n",
      "Number of names:  32033\n",
      "Character mapping:  {1: 'a', 2: 'b', 3: 'c', 4: 'd', 5: 'e', 6: 'f', 7: 'g', 8: 'h', 9: 'i', 10: 'j', 11: 'k', 12: 'l', 13: 'm', 14: 'n', 15: 'o', 16: 'p', 17: 'q', 18: 'r', 19: 's', 20: 't', 21: 'u', 22: 'v', 23: 'w', 24: 'x', 25: 'y', 26: 'z', 0: '.'}\n",
      "Vocab Size:  27\n"
     ]
    }
   ],
   "source": [
    "import torch\n",
    "import torch.nn.functional as F\n",
    "import matplotlib.pyplot as plt\n",
    "%matplotlib inline\n",
    "\n",
    "import random\n",
    "import numpy as np\n",
    "\n",
    "names = open('data/names.txt', 'r').read().splitlines()\n",
    "print(\"Sample names: \", names[5:12])\n",
    "print(\"Number of names: \", len(names))\n",
    "\n",
    "# create char to index mapping for set (vocabulary) of chars in names\n",
    "chars = sorted(list(set(''.join(names))))\n",
    "stoi = {s:i+1 for i,s in enumerate(chars)}\n",
    "stoi['.'] = 0\n",
    "itos = {i:s for s,i in stoi.items()}\n",
    "vocab_size = len(itos)\n",
    "print(\"Character mapping: \", itos)\n",
    "print(\"Vocab Size: \", vocab_size)"
   ]
  },
  {
   "cell_type": "code",
   "execution_count": null,
   "id": "802f6bfb",
   "metadata": {},
   "outputs": [
    {
     "name": "stdout",
     "output_type": "stream",
     "text": [
      "torch.Size([182594, 3]) torch.Size([182594])\n",
      "torch.Size([22690, 3]) torch.Size([22690])\n",
      "torch.Size([22864, 3]) torch.Size([22864])\n"
     ]
    }
   ],
   "source": [
    "# building dataset\n",
    "\n",
    "def build_dataset(names):\n",
    "    context_length = 3 \n",
    "    X, Y = [], []\n",
    "    for name in names:\n",
    "\n",
    "        context = [0] * context_length \n",
    "        for char in name + '.':\n",
    "            ix = stoi[char]\n",
    "            X.append(context)\n",
    "            Y.append(ix)\n",
    "            context = context[1:] + [ix]\n",
    "\n",
    "    X = torch.tensor(X)\n",
    "    Y = torch.tensor(Y)\n",
    "    print(X.shape, Y.shape)\n",
    "    return X,Y\n",
    "\n",
    "random.seed(1337)\n",
    "random.shuffle(names)\n",
    "n1 = int(0.8*len(names))\n",
    "n2 = int(0.9*len(names))\n",
    "\n",
    "Xtrain, Ytrain = build_dataset(names[:n1])  # 80%\n",
    "Xval, Yval = build_dataset(names[n1:n2])    # 10%\n",
    "Xtest, Ytest = build_dataset(names[n2:])    # 10%"
   ]
  },
  {
   "cell_type": "code",
   "execution_count": null,
   "id": "b640d7a9",
   "metadata": {},
   "outputs": [
    {
     "name": "stdout",
     "output_type": "stream",
     "text": [
      "11897\n"
     ]
    }
   ],
   "source": [
    "# constructing network \n",
    "\n",
    "dim_embed = 10\n",
    "hidden_layer_size = 200\n",
    "context_length = 3\n",
    "\n",
    "g = torch.Generator().manual_seed(978467474)\n",
    "C = torch.randn((vocab_size, dim_embed),                            generator=g)\n",
    "W1 = torch.randn((dim_embed * context_length, hidden_layer_size),   generator=g) \n",
    "b1 = torch.randn(hidden_layer_size,                                 generator=g)\n",
    "W2 = torch.randn((hidden_layer_size, vocab_size),                   generator=g)\n",
    "b2 = torch.randn(vocab_size,                                        generator=g)\n",
    "\n",
    "parameters = [C, W1, b1, W2, b2] # all parameters of the model\n",
    "print(sum(p.nelement() for p in parameters)) # number of parameters in the model\n",
    "for p in parameters:\n",
    "    p.requires_grad = True"
   ]
  },
  {
   "cell_type": "code",
   "execution_count": null,
   "id": "894c8bef",
   "metadata": {},
   "outputs": [],
   "source": [
    "# training loop\n",
    "\n",
    "def train(steps, lr, batch_size=32):\n",
    "    batch_losses = []  # added here to capture loss later when we scale up neuron count\n",
    "    for _ in range(steps):\n",
    "\n",
    "        # batch\n",
    "        ix = torch.randint(0, Xtrain.shape[0], (batch_size,))\n",
    "        Xb, Yb = Xtrain[ix], Ytrain[ix]\n",
    "\n",
    "        # forward pass \n",
    "        emb = C[Xb] # embed the characters into vectors\n",
    "        embcat = emb.view(emb.shape[0], -1) # concatenate the vectors\n",
    "        hpreact = embcat @ W1 + b1 # hidden layer pre-activation\n",
    "        h = torch.tanh(hpreact) # hidden layer\n",
    "        logits = h @ W2 + b2 # output layer\n",
    "        loss = F.cross_entropy(logits, Yb) # loss function\n",
    "\n",
    "        # backward pass\n",
    "        for p in parameters:\n",
    "            p.grad = None\n",
    "        loss.backward()\n",
    "\n",
    "        # update\n",
    "        with torch.no_grad(): # no graph tracking for the update step\n",
    "            for p in parameters:\n",
    "                p.add_(p.grad, alpha=-lr)  # in-place, safe under no_grad\n",
    "\n",
    "        batch_losses.append(loss.item())\n",
    "    return batch_losses # added return here to capture loss later when we scale up neuron count\n",
    "\n",
    "    # print(loss.item()) # loss per batch \n",
    "\n",
    "# whole-dataset evaluation helper\n",
    "def evaluate(X, Y):\n",
    "    emb = C[X] \n",
    "    embcat = emb.view(emb.shape[0], -1) \n",
    "    hpreact = embcat @ W1 + b1 \n",
    "    h = torch.tanh(hpreact) \n",
    "    logits = h @ W2 + b2\n",
    "    loss = F.cross_entropy(logits, Y) \n",
    "    return loss.item()\n",
    "\n",
    "\n",
    "\n",
    "# track training loss\n",
    "train_loss = []     # per step\n",
    "val_loss = []       # per epoch\n",
    "val_steps = []      # steps for each val_loss"
   ]
  },
  {
   "cell_type": "code",
   "execution_count": 7,
   "id": "98ad2553",
   "metadata": {},
   "outputs": [],
   "source": [
    "# training\n",
    "\n",
    "epochs = 200\n",
    "steps_per_epoch = 1000\n",
    "learning_rate = 0.1\n",
    "\n",
    "for _ in range (epochs): \n",
    "    if _ == 100: learning_rate = 0.01 # learning rate decay\n",
    "    step_losses = train(steps_per_epoch, learning_rate, batch_size=64) \n",
    "    train_loss.extend(step_losses)\n",
    "    val_loss.append(evaluate(Xval, Yval))\n",
    "    val_steps.append(len(train_loss))"
   ]
  },
  {
   "cell_type": "code",
   "execution_count": 8,
   "id": "5391ee3c",
   "metadata": {},
   "outputs": [
    {
     "name": "stdout",
     "output_type": "stream",
     "text": [
      "=== Loss summary ===\n",
      "Train — last: 2.1315  (epoch 200, step 200000)\n",
      "Train —  min: 2.1210  (epoch 199, step 199000)\n",
      "Val   — last: 2.1978     (epoch 200, step 200000)\n",
      "Val   —  min: 2.1954     (epoch 197, step 197000)\n"
     ]
    },
    {
     "data": {
      "image/png": "[encoded data removed]",
      "text/plain": [
       "<Figure size 640x480 with 1 Axes>"
      ]
     },
     "metadata": {},
     "output_type": "display_data"
    }
   ],
   "source": [
    "# showing training results\n",
    "\n",
    "epoch_steps = np.arange(1, epochs+1) * steps_per_epoch\n",
    "\n",
    "epoch_means = [\n",
    "    float(np.mean(train_loss[i*steps_per_epoch:(i+1)*steps_per_epoch]))\n",
    "    for i in range(epochs)\n",
    "]\n",
    "\n",
    "ti = int(np.argmin(epoch_means))   # index of min train loss (epoch-averaged)\n",
    "vi = int(np.argmin(val_loss))      # index of min val loss (per epoch)\n",
    "\n",
    "print(\"=== Loss summary ===\")\n",
    "print(f\"Train — last: {epoch_means[-1]:.4f}  (epoch {epochs}, step {int(epoch_steps[-1])})\")\n",
    "print(f\"Train —  min: {epoch_means[ti]:.4f}  (epoch {ti+1}, step {int(epoch_steps[ti])})\")\n",
    "\n",
    "print(f\"Val   — last: {val_loss[-1]:.4f}     (epoch {len(val_loss)}, step {int(val_steps[-1])})\")\n",
    "print(f\"Val   —  min: {val_loss[vi]:.4f}     (epoch {vi+1}, step {int(val_steps[vi])})\")\n",
    "\n",
    "\n",
    "plt.figure()\n",
    "plt.plot(np.arange(1, epochs+1)*steps_per_epoch, epoch_means, label='train (epoch mean)')\n",
    "plt.plot(val_steps, val_loss,\n",
    "         marker='o', ms=3, mew=0.5, mfc='none', mec='auto', label='val')\n",
    "plt.xlabel('training step'); plt.ylabel('loss'); plt.legend(); plt.tight_layout()\n"
   ]
  }
 ],
 "metadata": {
  "kernelspec": {
   "display_name": ".venv",
   "language": "python",
   "name": "python3"
  },
  "language_info": {
   "codemirror_mode": {
    "name": "ipython",
    "version": 3
   },
   "file_extension": ".py",
   "mimetype": "text/x-python",
   "name": "python",
   "nbconvert_exporter": "python",
   "pygments_lexer": "ipython3",
   "version": "3.12.3"
  }
 },
 "nbformat": 4,
 "nbformat_minor": 5
}
