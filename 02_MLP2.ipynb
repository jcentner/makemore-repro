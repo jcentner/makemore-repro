{
 "cells": [
  {
   "cell_type": "markdown",
   "id": "a3c490ac",
   "metadata": {},
   "source": [
    "## makemore - MLP v2, closer look"
   ]
  },
  {
   "cell_type": "markdown",
   "id": "aef85ad7",
   "metadata": {},
   "source": [
    "This implementation includes:\n",
    "- Multiple layers\n",
    "- Diagnostics and visualizations\n",
    "- BatchNorm"
   ]
  },
  {
   "cell_type": "code",
   "execution_count": 3,
   "id": "1c5fd54d",
   "metadata": {},
   "outputs": [
    {
     "name": "stdout",
     "output_type": "stream",
     "text": [
      "Sample names:  ['charlotte', 'mia', 'amelia', 'harper', 'evelyn', 'abigail', 'emily']\n",
      "Number of names:  32033\n",
      "Character mapping:  {1: 'a', 2: 'b', 3: 'c', 4: 'd', 5: 'e', 6: 'f', 7: 'g', 8: 'h', 9: 'i', 10: 'j', 11: 'k', 12: 'l', 13: 'm', 14: 'n', 15: 'o', 16: 'p', 17: 'q', 18: 'r', 19: 's', 20: 't', 21: 'u', 22: 'v', 23: 'w', 24: 'x', 25: 'y', 26: 'z', 0: '.'}\n",
      "Vocab Size:  27\n"
     ]
    }
   ],
   "source": [
    "import torch\n",
    "import torch.nn.functional as F\n",
    "import matplotlib.pyplot as plt\n",
    "%matplotlib inline\n",
    "\n",
    "import random\n",
    "import numpy as np\n",
    "\n",
    "names = open('data/names.txt', 'r').read().splitlines()\n",
    "print(\"Sample names: \", names[5:12])\n",
    "print(\"Number of names: \", len(names))\n",
    "\n",
    "# create char to index mapping for set (vocabulary) of chars in names\n",
    "chars = sorted(list(set(''.join(names))))\n",
    "stoi = {s:i+1 for i,s in enumerate(chars)}\n",
    "stoi['.'] = 0\n",
    "itos = {i:s for s,i in stoi.items()}\n",
    "vocab_size = len(itos)\n",
    "print(\"Character mapping: \", itos)\n",
    "print(\"Vocab Size: \", vocab_size)"
   ]
  },
  {
   "cell_type": "code",
   "execution_count": 19,
   "id": "802f6bfb",
   "metadata": {},
   "outputs": [
    {
     "name": "stdout",
     "output_type": "stream",
     "text": [
      "torch.Size([182383, 3]) torch.Size([182383])\n",
      "torch.Size([22883, 3]) torch.Size([22883])\n",
      "torch.Size([22882, 3]) torch.Size([22882])\n"
     ]
    }
   ],
   "source": [
    "# building dataset\n",
    "\n",
    "def build_dataset(names):\n",
    "    context_length = 3 \n",
    "    X, Y = [], []\n",
    "    for name in names:\n",
    "\n",
    "        context = [0] * context_length \n",
    "        for char in name + '.':\n",
    "            ix = stoi[char]\n",
    "            X.append(context)\n",
    "            Y.append(ix)\n",
    "            context = context[1:] + [ix]\n",
    "\n",
    "    X = torch.tensor(X)\n",
    "    Y = torch.tensor(Y)\n",
    "    print(X.shape, Y.shape)\n",
    "    return X,Y\n",
    "\n",
    "random.seed(1337)\n",
    "random.shuffle(names)\n",
    "n1 = int(0.8*len(names))\n",
    "n2 = int(0.9*len(names))\n",
    "\n",
    "Xtrain, Ytrain = build_dataset(names[:n1])  # 80%\n",
    "Xval, Yval = build_dataset(names[n1:n2])    # 10%\n",
    "Xtest, Ytest = build_dataset(names[n2:])    # 10%"
   ]
  },
  {
   "cell_type": "code",
   "execution_count": 25,
   "id": "b640d7a9",
   "metadata": {},
   "outputs": [
    {
     "name": "stdout",
     "output_type": "stream",
     "text": [
      "11897\n"
     ]
    }
   ],
   "source": [
    "# constructing network \n",
    "\n",
    "dim_embed = 10\n",
    "hidden_layer_size = 200\n",
    "context_length = 3\n",
    "\n",
    "g = torch.Generator().manual_seed(978467474)\n",
    "C = torch.randn((vocab_size, dim_embed),                            generator=g)\n",
    "W1 = torch.randn((dim_embed * context_length, hidden_layer_size),   generator=g) \n",
    "b1 = torch.randn(hidden_layer_size,                                 generator=g)\n",
    "W2 = torch.randn((hidden_layer_size, vocab_size),                   generator=g)\n",
    "b2 = torch.randn(vocab_size,                                        generator=g)\n",
    "\n",
    "parameters = [C, W1, b1, W2, b2] # all parameters of the model\n",
    "print(sum(p.nelement() for p in parameters)) # number of parameters in the model\n",
    "for p in parameters:\n",
    "    p.requires_grad = True"
   ]
  },
  {
   "cell_type": "code",
   "execution_count": 26,
   "id": "894c8bef",
   "metadata": {},
   "outputs": [],
   "source": [
    "# training loop\n",
    "\n",
    "def train(steps, lr, batch_size=32):\n",
    "    batch_losses = []  # added here to capture loss later when we scale up neuron count\n",
    "    for _ in range(steps):\n",
    "\n",
    "        # batch\n",
    "        ix = torch.randint(0, Xtrain.shape[0], (batch_size,))\n",
    "        Xb, Yb = Xtrain[ix], Ytrain[ix]\n",
    "\n",
    "        # forward pass \n",
    "        emb = C[Xb] # embed the characters into vectors\n",
    "        embcat = emb.view(emb.shape[0], -1) # concatenate the vectors\n",
    "        hpreact = embcat @ W1 + b1 # hidden layer pre-activation\n",
    "        h = torch.tanh(hpreact) # hidden layer\n",
    "        logits = h @ W2 + b2 # output layer\n",
    "        loss = F.cross_entropy(logits, Yb) # loss function\n",
    "\n",
    "        # backward pass\n",
    "        for p in parameters:\n",
    "            p.grad = None\n",
    "        loss.backward()\n",
    "\n",
    "        # update\n",
    "        with torch.no_grad(): # no graph tracking for the update step\n",
    "            for p in parameters:\n",
    "                p.add_(p.grad, alpha=-lr)  # in-place, safe under no_grad\n",
    "\n",
    "        batch_losses.append(loss.item())\n",
    "    return batch_losses # added return here to capture loss later when we scale up neuron count\n",
    "\n",
    "    # print(loss.item()) # loss per batch \n",
    "\n",
    "# whole-dataset evaluation helper (old)\n",
    "@torch.no_grad() # decorator that disables gradient tracking\n",
    "def evaluate(X, Y):\n",
    "    emb = C[X] \n",
    "    embcat = emb.view(emb.shape[0], -1) \n",
    "    hpreact = embcat @ W1 + b1 \n",
    "    h = torch.tanh(hpreact) \n",
    "    logits = h @ W2 + b2\n",
    "    loss = F.cross_entropy(logits, Y) \n",
    "    return loss.item()\n",
    "\n",
    "# split evaluation helper (new)\n",
    "@torch.no_grad() # decorator that disables gradient tracking\n",
    "def split_evaluate(split):\n",
    "    x,y = {\n",
    "        'train': (Xtrain, Ytrain),\n",
    "        'val': (Xval, Yval),\n",
    "        'test': (Xtest, Ytest)\n",
    "    }[split]\n",
    "\n",
    "    emb = C[x] \n",
    "    embcat = emb.view(emb.shape[0], -1) \n",
    "    h = torch.tanh(embcat @ W1 + b1) \n",
    "    logits = h @ W2 + b2\n",
    "    loss = F.cross_entropy(logits, y) \n",
    "    return loss.item()\n"
   ]
  },
  {
   "cell_type": "code",
   "execution_count": 27,
   "id": "98ad2553",
   "metadata": {},
   "outputs": [
    {
     "name": "stdout",
     "output_type": "stream",
     "text": [
      "Epoch 0: val loss 3.2803993225097656\n",
      "Epoch 20: val loss 2.4146759510040283\n",
      "Epoch 40: val loss 2.3154537677764893\n",
      "Epoch 60: val loss 2.3543806076049805\n",
      "Epoch 80: val loss 2.2085726261138916\n",
      "Epoch 100: val loss 2.199052333831787\n",
      "Epoch 120: val loss 2.1966392993927\n",
      "Epoch 140: val loss 2.1950736045837402\n",
      "Epoch 160: val loss 2.1913692951202393\n",
      "Epoch 180: val loss 2.1896486282348633\n"
     ]
    }
   ],
   "source": [
    "# training\n",
    "\n",
    "# track training loss\n",
    "train_loss = []     # per epoch now\n",
    "val_loss = []       # per epoch\n",
    "\n",
    "# training parameters\n",
    "epochs = 200\n",
    "steps_per_epoch = 1000\n",
    "learning_rate = 0.1\n",
    "\n",
    "for epoch in range (epochs): \n",
    "    if epoch == 80: learning_rate = 0.01 # hacky learning rate decay\n",
    "    if epoch == 150: learning_rate = 0.005 # hacky learning rate decay\n",
    "\n",
    "    train(steps_per_epoch, learning_rate, batch_size=64) \n",
    "    train_loss.append(split_evaluate('train')) # capture train loss at epoch end rather than mini-batch loss\n",
    "    val_loss.append(split_evaluate('val'))\n",
    "\n",
    "    if epoch % 20 == 0: print(f\"Epoch {epoch}: val loss {val_loss[-1]}\")"
   ]
  },
  {
   "cell_type": "code",
   "execution_count": 28,
   "id": "5391ee3c",
   "metadata": {},
   "outputs": [
    {
     "name": "stdout",
     "output_type": "stream",
     "text": [
      "=== Loss summary ===\n",
      "Train — last: 2.1386  (epoch 200)\n",
      "Train —  min:  2.1385  (epoch 197)\n",
      "Val   — last: 2.1887     (epoch 200)\n",
      "Val   —  min:  2.1880     (epoch 195)\n"
     ]
    },
    {
     "data": {
      "image/png": "[encoded data removed]",
      "text/plain": [
       "<Figure size 640x480 with 1 Axes>"
      ]
     },
     "metadata": {},
     "output_type": "display_data"
    }
   ],
   "source": [
    "# showing training results\n",
    "\n",
    "E = len (train_loss)      # number of epochs\n",
    "xs = np.arange(1, E+1)\n",
    "\n",
    "\n",
    "# --- plot (epoch-level curves) ---\n",
    "plt.figure()\n",
    "plt.plot(xs, train_loss, label='train (epoch)')\n",
    "plt.plot(xs, val_loss, marker='o', ms=3, mew=0.5, mfc='none', mec='auto', label='val')\n",
    "plt.xlabel('training step'); plt.ylabel('loss'); plt.legend(); plt.tight_layout()\n",
    "\n",
    "\n",
    "ti = int(np.argmin(train_loss))   # index of min train loss (epoch-level)\n",
    "vi = int(np.argmin(val_loss))     # index of min val loss (epoch-level)\n",
    "\n",
    "print(\"=== Loss summary ===\")\n",
    "print(f\"Train — last: {train_loss[-1]:.4f}  (epoch {E})\")\n",
    "print(f\"Train —  min:  {train_loss[ti]:.4f}  (epoch {ti})\")\n",
    "\n",
    "print(f\"Val   — last: {val_loss[-1]:.4f}     (epoch {E})\")\n",
    "print(f\"Val   —  min:  {val_loss[vi]:.4f}     (epoch {vi})\")\n"
   ]
  },
  {
   "cell_type": "code",
   "execution_count": 29,
   "id": "f80149a3",
   "metadata": {},
   "outputs": [
    {
     "name": "stdout",
     "output_type": "stream",
     "text": [
      "onpneyah.\n",
      "valaniya.\n",
      "naa.\n",
      "aili.\n",
      "gialeydesha.\n",
      "jenzalia.\n",
      "abihaylan.\n",
      "dieskashlas.\n",
      "theya.\n",
      "aziyari.\n",
      "bradharron.\n",
      "adyn.\n",
      "jessan.\n",
      "saylontees.\n",
      "art.\n",
      "yuh.\n",
      "abdopo.\n",
      "rerby.\n",
      "renyse.\n",
      "amma.\n"
     ]
    }
   ],
   "source": [
    "# sample from the model\n",
    "for _ in range(20):\n",
    "    \n",
    "    out = []\n",
    "    context = [0] * context_length # initializes with all '.' chars \n",
    "    while True:\n",
    "      emb = C[torch.tensor([context])]\n",
    "      h = torch.tanh(emb.view(1, -1) @ W1 + b1)\n",
    "      logits = h @ W2 + b2\n",
    "      probs = F.softmax(logits, dim=1)\n",
    "      ix = torch.multinomial(probs, num_samples=1, generator=g).item() # sample\n",
    "      context = context[1:] + [ix] # slide window\n",
    "      out.append(ix)\n",
    "      if ix == 0: # break on end token '.'\n",
    "        break\n",
    "    \n",
    "    print(''.join(itos[i] for i in out))"
   ]
  }
 ],
 "metadata": {
  "kernelspec": {
   "display_name": ".venv",
   "language": "python",
   "name": "python3"
  },
  "language_info": {
   "codemirror_mode": {
    "name": "ipython",
    "version": 3
   },
   "file_extension": ".py",
   "mimetype": "text/x-python",
   "name": "python",
   "nbconvert_exporter": "python",
   "pygments_lexer": "ipython3",
   "version": "3.12.3"
  }
 },
 "nbformat": 4,
 "nbformat_minor": 5
}
